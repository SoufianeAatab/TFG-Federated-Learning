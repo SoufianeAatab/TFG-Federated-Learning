{
 "cells": [
  {
   "cell_type": "code",
   "execution_count": 63,
   "id": "86ab7333",
   "metadata": {},
   "outputs": [],
   "source": [
    "import serial\n",
    "import serial.tools.list_ports\n",
    "import struct\n",
    "import math\n",
    "import numpy as np\n",
    "import matplotlib.pyplot as plt\n",
    "import time"
   ]
  },
  {
   "cell_type": "code",
   "execution_count": 64,
   "id": "b69aa234",
   "metadata": {},
   "outputs": [],
   "source": [
    "def read_number(msg):\n",
    "    while True:\n",
    "        try:\n",
    "            #return 2;\n",
    "            return int(input(msg))\n",
    "        except: print(\"ERROR: Not a number\")\n",
    "\n",
    "def read_port(msg):\n",
    "    while True:\n",
    "        try:\n",
    "            port = input(msg)\n",
    "            #port = \"COM8\";\n",
    "            return serial.Serial(port, 9600)\n",
    "        except: print(f\"ERROR: Wrong port connection ({port})\")\n",
    "            \n",
    "def getDevices():\n",
    "    #num_devices = read_number(\"Number of devices: \")\n",
    "    # num_devices = 2\n",
    "\n",
    "    available_ports = serial.tools.list_ports.comports()\n",
    "\n",
    "    print(\"Available ports:\")\n",
    "    for available_port in available_ports: print(available_port)\n",
    "    return serial.Serial(\"/dev/cu.usbmodem1101\", 9600)\n"
   ]
  },
  {
   "cell_type": "code",
   "execution_count": 65,
   "id": "07fd31c7",
   "metadata": {},
   "outputs": [
    {
     "name": "stdout",
     "output_type": "stream",
     "text": [
      "Available ports:\n",
      "/dev/cu.wlan-debug - n/a\n",
      "/dev/cu.usbmodem1101 - Envie M7\n"
     ]
    }
   ],
   "source": [
    "devices = getDevices()\n",
    "arduino = devices"
   ]
  },
  {
   "cell_type": "code",
   "execution_count": 66,
   "id": "c618b01c",
   "metadata": {},
   "outputs": [
    {
     "data": {
      "image/png": "[encoded data removed]",
      "text/plain": [
       "<Figure size 432x288 with 1 Axes>"
      ]
     },
     "metadata": {
      "needs_background": "light"
     },
     "output_type": "display_data"
    }
   ],
   "source": [
    "np.random.seed(42)\n",
    "X = np.random.uniform(0.0,1.0,(600,))\n",
    "y = np.sin(2*X * math.pi)\n",
    "\n",
    "plt.scatter(X, y)\n",
    "losses = []"
   ]
  },
  {
   "cell_type": "code",
   "execution_count": 67,
   "id": "1ed6facd",
   "metadata": {
    "scrolled": false
   },
   "outputs": [
    {
     "name": "stdout",
     "output_type": "stream",
     "text": [
      "0/100 => 0.006340058133893916, 354ms\n",
      "10/100 => 0.00544748150815046, 348ms\n",
      "20/100 => 0.0047395883085448055, 349ms\n",
      "30/100 => 0.004164646877533803, 359ms\n",
      "40/100 => 0.003682659465189471, 349ms\n",
      "50/100 => 0.003267761798553069, 350ms\n",
      "60/100 => 0.002904829612770866, 344ms\n",
      "70/100 => 0.0025860582811294878, 347ms\n",
      "80/100 => 0.0023078344994538085, 346ms\n",
      "90/100 => 0.0020668526178760946, 355ms\n"
     ]
    }
   ],
   "source": [
    "epochs = 100\n",
    "for epoch in range(epochs):\n",
    "    error = 0.0\n",
    "    dts = 0\n",
    "    for i in range(600):\n",
    "        arduino.write(b\"t\")\n",
    "        arduino.write(struct.pack('f', X[i]))\n",
    "        arduino.write(struct.pack('f', y[i]))\n",
    "        dt = arduino.read(4)\n",
    "        [dt] = struct.unpack('i', dt)\n",
    "        n_error = arduino.read(4)\n",
    "        [loss] = struct.unpack('f', n_error)\n",
    "        error += loss\n",
    "        dts += dt\n",
    "    if epoch%10 == 0:\n",
    "        print(f\"{epoch}/{epochs} => {error/600.0}, {dt}ms\")\n",
    "    losses.append(error / 600.0)\n"
   ]
  },
  {
   "cell_type": "code",
   "execution_count": null,
   "id": "0eb24b36",
   "metadata": {},
   "outputs": [],
   "source": [
    "plt.plot(loss)"
   ]
  },
  {
   "cell_type": "code",
   "execution_count": 367,
   "id": "b12056c5",
   "metadata": {},
   "outputs": [
    {
     "data": {
      "text/plain": [
       "<matplotlib.collections.PathCollection at 0x165cbb130>"
      ]
     },
     "execution_count": 367,
     "metadata": {},
     "output_type": "execute_result"
    },
    {
     "data": {
      "image/png": "[encoded data removed]",
      "text/plain": [
       "<Figure size 432x288 with 1 Axes>"
      ]
     },
     "metadata": {
      "needs_background": "light"
     },
     "output_type": "display_data"
    }
   ],
   "source": [
    "y_preds = []\n",
    "X_test = np.random.uniform(0.0,1.0,(100,))\n",
    "y_test = np.sin(2*X_test * math.pi)\n",
    "for i in range(100):\n",
    "    arduino.write(b\"p\")\n",
    "    arduino.write(struct.pack('f', X_test[i]))\n",
    "    n_error = arduino.read(4)\n",
    "    [y_pred] = struct.unpack('f', n_error)\n",
    "    y_preds.append(y_pred)\n",
    "\n",
    "plt.scatter(X_test, y_preds)\n",
    "plt.scatter(X_test, y_test)"
   ]
  },
  {
   "cell_type": "code",
   "execution_count": null,
   "id": "8bcdab5b",
   "metadata": {},
   "outputs": [],
   "source": []
  },
  {
   "cell_type": "code",
   "execution_count": null,
   "id": "1d683928",
   "metadata": {},
   "outputs": [],
   "source": []
  }
 ],
 "metadata": {
  "kernelspec": {
   "display_name": "tfg_env",
   "language": "python",
   "name": "tfg_env"
  },
  "language_info": {
   "codemirror_mode": {
    "name": "ipython",
    "version": 3
   },
   "file_extension": ".py",
   "mimetype": "text/x-python",
   "name": "python",
   "nbconvert_exporter": "python",
   "pygments_lexer": "ipython3",
   "version": "3.10.8"
  }
 },
 "nbformat": 4,
 "nbformat_minor": 5
}
