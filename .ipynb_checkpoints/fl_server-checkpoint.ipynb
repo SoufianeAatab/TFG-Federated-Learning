{
 "cells": [
  {
   "cell_type": "code",
   "execution_count": 52,
   "id": "86ab7333",
   "metadata": {},
   "outputs": [],
   "source": [
    "import serial\n",
    "import serial.tools.list_ports\n",
    "import struct\n",
    "import math\n",
    "import numpy as np\n",
    "import matplotlib.pyplot as plt\n",
    "import time\n",
    "import os\n",
    "import json"
   ]
  },
  {
   "cell_type": "code",
   "execution_count": 53,
   "id": "b69aa234",
   "metadata": {},
   "outputs": [],
   "source": [
    "def read_number(msg):\n",
    "    while True:\n",
    "        try:\n",
    "            #return 2;\n",
    "            return int(input(msg))\n",
    "        except: print(\"ERROR: Not a number\")\n",
    "\n",
    "def read_port(msg):\n",
    "    while True:\n",
    "        try:\n",
    "            port = input(msg)\n",
    "            #port = \"COM8\";\n",
    "            return serial.Serial(port, 9600)\n",
    "        except: print(f\"ERROR: Wrong port connection ({port})\")\n",
    "            \n",
    "def getDevices():\n",
    "    #num_devices = read_number(\"Number of devices: \")\n",
    "    # num_devices = 2\n",
    "\n",
    "    available_ports = serial.tools.list_ports.comports()\n",
    "\n",
    "    print(\"Available ports:\")\n",
    "    for available_port in available_ports: print(available_port)\n",
    "    return serial.Serial(\"/dev/cu.usbmodem1101\", 9600)\n"
   ]
  },
  {
   "cell_type": "code",
   "execution_count": 54,
   "id": "07fd31c7",
   "metadata": {},
   "outputs": [
    {
     "name": "stdout",
     "output_type": "stream",
     "text": [
      "Available ports:\n",
      "/dev/cu.wlan-debug - n/a\n",
      "/dev/cu.Bluetooth-Incoming-Port - n/a\n",
      "/dev/cu.usbmodem14101 - Envie M7\n"
     ]
    },
    {
     "ename": "SerialException",
     "evalue": "[Errno 2] could not open port /dev/cu.usbmodem1101: [Errno 2] No such file or directory: '/dev/cu.usbmodem1101'",
     "output_type": "error",
     "traceback": [
      "\u001b[0;31m---------------------------------------------------------------------------\u001b[0m",
      "\u001b[0;31mFileNotFoundError\u001b[0m                         Traceback (most recent call last)",
      "File \u001b[0;32m/opt/anaconda3/envs/tfg_env/lib/python3.10/site-packages/serial/serialposix.py:322\u001b[0m, in \u001b[0;36mSerial.open\u001b[0;34m(self)\u001b[0m\n\u001b[1;32m    321\u001b[0m \u001b[38;5;28;01mtry\u001b[39;00m:\n\u001b[0;32m--> 322\u001b[0m     \u001b[38;5;28mself\u001b[39m\u001b[38;5;241m.\u001b[39mfd \u001b[38;5;241m=\u001b[39m \u001b[43mos\u001b[49m\u001b[38;5;241;43m.\u001b[39;49m\u001b[43mopen\u001b[49m\u001b[43m(\u001b[49m\u001b[38;5;28;43mself\u001b[39;49m\u001b[38;5;241;43m.\u001b[39;49m\u001b[43mportstr\u001b[49m\u001b[43m,\u001b[49m\u001b[43m \u001b[49m\u001b[43mos\u001b[49m\u001b[38;5;241;43m.\u001b[39;49m\u001b[43mO_RDWR\u001b[49m\u001b[43m \u001b[49m\u001b[38;5;241;43m|\u001b[39;49m\u001b[43m \u001b[49m\u001b[43mos\u001b[49m\u001b[38;5;241;43m.\u001b[39;49m\u001b[43mO_NOCTTY\u001b[49m\u001b[43m \u001b[49m\u001b[38;5;241;43m|\u001b[39;49m\u001b[43m \u001b[49m\u001b[43mos\u001b[49m\u001b[38;5;241;43m.\u001b[39;49m\u001b[43mO_NONBLOCK\u001b[49m\u001b[43m)\u001b[49m\n\u001b[1;32m    323\u001b[0m \u001b[38;5;28;01mexcept\u001b[39;00m \u001b[38;5;167;01mOSError\u001b[39;00m \u001b[38;5;28;01mas\u001b[39;00m msg:\n",
      "\u001b[0;31mFileNotFoundError\u001b[0m: [Errno 2] No such file or directory: '/dev/cu.usbmodem1101'",
      "\nDuring handling of the above exception, another exception occurred:\n",
      "\u001b[0;31mSerialException\u001b[0m                           Traceback (most recent call last)",
      "Cell \u001b[0;32mIn[54], line 1\u001b[0m\n\u001b[0;32m----> 1\u001b[0m devices \u001b[38;5;241m=\u001b[39m \u001b[43mgetDevices\u001b[49m\u001b[43m(\u001b[49m\u001b[43m)\u001b[49m\n\u001b[1;32m      2\u001b[0m arduino \u001b[38;5;241m=\u001b[39m devices\n",
      "Cell \u001b[0;32mIn[53], line 24\u001b[0m, in \u001b[0;36mgetDevices\u001b[0;34m()\u001b[0m\n\u001b[1;32m     22\u001b[0m \u001b[38;5;28mprint\u001b[39m(\u001b[38;5;124m\"\u001b[39m\u001b[38;5;124mAvailable ports:\u001b[39m\u001b[38;5;124m\"\u001b[39m)\n\u001b[1;32m     23\u001b[0m \u001b[38;5;28;01mfor\u001b[39;00m available_port \u001b[38;5;129;01min\u001b[39;00m available_ports: \u001b[38;5;28mprint\u001b[39m(available_port)\n\u001b[0;32m---> 24\u001b[0m \u001b[38;5;28;01mreturn\u001b[39;00m \u001b[43mserial\u001b[49m\u001b[38;5;241;43m.\u001b[39;49m\u001b[43mSerial\u001b[49m\u001b[43m(\u001b[49m\u001b[38;5;124;43m\"\u001b[39;49m\u001b[38;5;124;43m/dev/cu.usbmodem1101\u001b[39;49m\u001b[38;5;124;43m\"\u001b[39;49m\u001b[43m,\u001b[49m\u001b[43m \u001b[49m\u001b[38;5;241;43m9600\u001b[39;49m\u001b[43m)\u001b[49m\n",
      "File \u001b[0;32m/opt/anaconda3/envs/tfg_env/lib/python3.10/site-packages/serial/serialutil.py:244\u001b[0m, in \u001b[0;36mSerialBase.__init__\u001b[0;34m(self, port, baudrate, bytesize, parity, stopbits, timeout, xonxoff, rtscts, write_timeout, dsrdtr, inter_byte_timeout, exclusive, **kwargs)\u001b[0m\n\u001b[1;32m    241\u001b[0m     \u001b[38;5;28;01mraise\u001b[39;00m \u001b[38;5;167;01mValueError\u001b[39;00m(\u001b[38;5;124m'\u001b[39m\u001b[38;5;124munexpected keyword arguments: \u001b[39m\u001b[38;5;132;01m{!r}\u001b[39;00m\u001b[38;5;124m'\u001b[39m\u001b[38;5;241m.\u001b[39mformat(kwargs))\n\u001b[1;32m    243\u001b[0m \u001b[38;5;28;01mif\u001b[39;00m port \u001b[38;5;129;01mis\u001b[39;00m \u001b[38;5;129;01mnot\u001b[39;00m \u001b[38;5;28;01mNone\u001b[39;00m:\n\u001b[0;32m--> 244\u001b[0m     \u001b[38;5;28;43mself\u001b[39;49m\u001b[38;5;241;43m.\u001b[39;49m\u001b[43mopen\u001b[49m\u001b[43m(\u001b[49m\u001b[43m)\u001b[49m\n",
      "File \u001b[0;32m/opt/anaconda3/envs/tfg_env/lib/python3.10/site-packages/serial/serialposix.py:325\u001b[0m, in \u001b[0;36mSerial.open\u001b[0;34m(self)\u001b[0m\n\u001b[1;32m    323\u001b[0m \u001b[38;5;28;01mexcept\u001b[39;00m \u001b[38;5;167;01mOSError\u001b[39;00m \u001b[38;5;28;01mas\u001b[39;00m msg:\n\u001b[1;32m    324\u001b[0m     \u001b[38;5;28mself\u001b[39m\u001b[38;5;241m.\u001b[39mfd \u001b[38;5;241m=\u001b[39m \u001b[38;5;28;01mNone\u001b[39;00m\n\u001b[0;32m--> 325\u001b[0m     \u001b[38;5;28;01mraise\u001b[39;00m SerialException(msg\u001b[38;5;241m.\u001b[39merrno, \u001b[38;5;124m\"\u001b[39m\u001b[38;5;124mcould not open port \u001b[39m\u001b[38;5;132;01m{}\u001b[39;00m\u001b[38;5;124m: \u001b[39m\u001b[38;5;132;01m{}\u001b[39;00m\u001b[38;5;124m\"\u001b[39m\u001b[38;5;241m.\u001b[39mformat(\u001b[38;5;28mself\u001b[39m\u001b[38;5;241m.\u001b[39m_port, msg))\n\u001b[1;32m    326\u001b[0m \u001b[38;5;66;03m#~ fcntl.fcntl(self.fd, fcntl.F_SETFL, 0)  # set blocking\u001b[39;00m\n\u001b[1;32m    328\u001b[0m \u001b[38;5;28mself\u001b[39m\u001b[38;5;241m.\u001b[39mpipe_abort_read_r, \u001b[38;5;28mself\u001b[39m\u001b[38;5;241m.\u001b[39mpipe_abort_read_w \u001b[38;5;241m=\u001b[39m \u001b[38;5;28;01mNone\u001b[39;00m, \u001b[38;5;28;01mNone\u001b[39;00m\n",
      "\u001b[0;31mSerialException\u001b[0m: [Errno 2] could not open port /dev/cu.usbmodem1101: [Errno 2] No such file or directory: '/dev/cu.usbmodem1101'"
     ]
    }
   ],
   "source": [
    "devices = getDevices()\n",
    "arduino = devices"
   ]
  },
  {
   "cell_type": "code",
   "execution_count": 55,
   "id": "c618b01c",
   "metadata": {},
   "outputs": [
    {
     "data": {
      "image/png": "[encoded data removed]",
      "text/plain": [
       "<Figure size 640x480 with 1 Axes>"
      ]
     },
     "metadata": {},
     "output_type": "display_data"
    }
   ],
   "source": [
    "np.random.seed(42)\n",
    "X = np.random.uniform(0.0,1.0,(600,))\n",
    "y = np.sin(2*X * math.pi)\n",
    "\n",
    "plt.scatter(X, y)\n",
    "losses = []"
   ]
  },
  {
   "cell_type": "code",
   "execution_count": 56,
   "id": "1ed6facd",
   "metadata": {
    "scrolled": false
   },
   "outputs": [
    {
     "ename": "NameError",
     "evalue": "name 'arduino' is not defined",
     "output_type": "error",
     "traceback": [
      "\u001b[0;31m---------------------------------------------------------------------------\u001b[0m",
      "\u001b[0;31mNameError\u001b[0m                                 Traceback (most recent call last)",
      "Cell \u001b[0;32mIn[56], line 6\u001b[0m\n\u001b[1;32m      4\u001b[0m dts \u001b[38;5;241m=\u001b[39m \u001b[38;5;241m0\u001b[39m\n\u001b[1;32m      5\u001b[0m \u001b[38;5;28;01mfor\u001b[39;00m i \u001b[38;5;129;01min\u001b[39;00m \u001b[38;5;28mrange\u001b[39m(\u001b[38;5;241m600\u001b[39m):\n\u001b[0;32m----> 6\u001b[0m     \u001b[43marduino\u001b[49m\u001b[38;5;241m.\u001b[39mwrite(\u001b[38;5;124mb\u001b[39m\u001b[38;5;124m\"\u001b[39m\u001b[38;5;124mt\u001b[39m\u001b[38;5;124m\"\u001b[39m)\n\u001b[1;32m      7\u001b[0m     arduino\u001b[38;5;241m.\u001b[39mwrite(struct\u001b[38;5;241m.\u001b[39mpack(\u001b[38;5;124m'\u001b[39m\u001b[38;5;124mf\u001b[39m\u001b[38;5;124m'\u001b[39m, X[i]))\n\u001b[1;32m      8\u001b[0m     arduino\u001b[38;5;241m.\u001b[39mwrite(struct\u001b[38;5;241m.\u001b[39mpack(\u001b[38;5;124m'\u001b[39m\u001b[38;5;124mf\u001b[39m\u001b[38;5;124m'\u001b[39m, y[i]))\n",
      "\u001b[0;31mNameError\u001b[0m: name 'arduino' is not defined"
     ]
    }
   ],
   "source": [
    "epochs = 100\n",
    "for epoch in range(epochs):\n",
    "    error = 0.0\n",
    "    dts = 0\n",
    "    for i in range(600):\n",
    "        arduino.write(b\"t\")\n",
    "        arduino.write(struct.pack('f', X[i]))\n",
    "        arduino.write(struct.pack('f', y[i]))\n",
    "        dt = arduino.read(4)\n",
    "        [dt] = struct.unpack('i', dt)\n",
    "        n_error = arduino.read(4)\n",
    "        [loss] = struct.unpack('f', n_error)\n",
    "        error += loss\n",
    "        dts += dt\n",
    "    if epoch%10 == 0:\n",
    "        print(f\"{epoch}/{epochs} => {error/600.0}, {dt}ms\")\n",
    "    losses.append(error / 600.0)\n"
   ]
  },
  {
   "cell_type": "code",
   "execution_count": 57,
   "id": "0eb24b36",
   "metadata": {},
   "outputs": [
    {
     "ename": "NameError",
     "evalue": "name 'loss' is not defined",
     "output_type": "error",
     "traceback": [
      "\u001b[0;31m---------------------------------------------------------------------------\u001b[0m",
      "\u001b[0;31mNameError\u001b[0m                                 Traceback (most recent call last)",
      "Cell \u001b[0;32mIn[57], line 1\u001b[0m\n\u001b[0;32m----> 1\u001b[0m plt\u001b[38;5;241m.\u001b[39mplot(\u001b[43mloss\u001b[49m)\n",
      "\u001b[0;31mNameError\u001b[0m: name 'loss' is not defined"
     ]
    }
   ],
   "source": [
    "plt.plot(loss)"
   ]
  },
  {
   "cell_type": "code",
   "execution_count": 58,
   "id": "b12056c5",
   "metadata": {},
   "outputs": [
    {
     "ename": "NameError",
     "evalue": "name 'arduino' is not defined",
     "output_type": "error",
     "traceback": [
      "\u001b[0;31m---------------------------------------------------------------------------\u001b[0m",
      "\u001b[0;31mNameError\u001b[0m                                 Traceback (most recent call last)",
      "Cell \u001b[0;32mIn[58], line 5\u001b[0m\n\u001b[1;32m      3\u001b[0m y_test \u001b[38;5;241m=\u001b[39m np\u001b[38;5;241m.\u001b[39msin(\u001b[38;5;241m2\u001b[39m\u001b[38;5;241m*\u001b[39mX_test \u001b[38;5;241m*\u001b[39m math\u001b[38;5;241m.\u001b[39mpi)\n\u001b[1;32m      4\u001b[0m \u001b[38;5;28;01mfor\u001b[39;00m i \u001b[38;5;129;01min\u001b[39;00m \u001b[38;5;28mrange\u001b[39m(\u001b[38;5;241m100\u001b[39m):\n\u001b[0;32m----> 5\u001b[0m     \u001b[43marduino\u001b[49m\u001b[38;5;241m.\u001b[39mwrite(\u001b[38;5;124mb\u001b[39m\u001b[38;5;124m\"\u001b[39m\u001b[38;5;124mp\u001b[39m\u001b[38;5;124m\"\u001b[39m)\n\u001b[1;32m      6\u001b[0m     arduino\u001b[38;5;241m.\u001b[39mwrite(struct\u001b[38;5;241m.\u001b[39mpack(\u001b[38;5;124m'\u001b[39m\u001b[38;5;124mf\u001b[39m\u001b[38;5;124m'\u001b[39m, X_test[i]))\n\u001b[1;32m      7\u001b[0m     n_error \u001b[38;5;241m=\u001b[39m arduino\u001b[38;5;241m.\u001b[39mread(\u001b[38;5;241m4\u001b[39m)\n",
      "\u001b[0;31mNameError\u001b[0m: name 'arduino' is not defined"
     ]
    }
   ],
   "source": [
    "y_preds = []\n",
    "X_test = np.random.uniform(0.0,1.0,(100,))\n",
    "y_test = np.sin(2*X_test * math.pi)\n",
    "for i in range(100):\n",
    "    arduino.write(b\"p\")\n",
    "    arduino.write(struct.pack('f', X_test[i]))\n",
    "    n_error = arduino.read(4)\n",
    "    [y_pred] = struct.unpack('f', n_error)\n",
    "    y_preds.append(y_pred)\n",
    "\n",
    "plt.scatter(X_test, y_preds)\n",
    "plt.scatter(X_test, y_test)"
   ]
  },
  {
   "cell_type": "markdown",
   "id": "f758161c",
   "metadata": {},
   "source": [
    "## Send data to c++ by sockets"
   ]
  },
  {
   "cell_type": "code",
   "execution_count": 59,
   "id": "1d683928",
   "metadata": {},
   "outputs": [],
   "source": [
    "from sklearn.preprocessing import OneHotEncoder\n",
    "from sklearn.model_selection import train_test_split\n",
    "import numpy as np\n",
    "import socket\n",
    "import time\n",
    "import math\n",
    "\n",
    "np.random.seed(42)\n",
    "\n",
    "HOST = '192.168.1.129'  # The server's hostname or IP address\n",
    "PORT = 65432        # The port used by the server\n",
    "\n",
    "def send_data(data):\n",
    "    with socket.socket(socket.AF_INET, socket.SOCK_STREAM) as s:\n",
    "        print(f\"Want to send {np.prod(data.shape)} elements.\")\n",
    "        s.connect((HOST, PORT))\n",
    "\n",
    "        # data length descriptor as uint32\n",
    "        length_descriptor = np.uint32(np.prod(data.shape)).tobytes(order='C')\n",
    "\n",
    "        # payload as C-style float32 byte array\n",
    "        payload = data.astype(np.float32).tobytes(order='C')\n",
    "        #print(f\"Length {np.uint32(np.prod(data.shape))} bytes, payload {payload}\")\n",
    "\n",
    "        s.sendall(length_descriptor + payload)\n"
   ]
  },
  {
   "cell_type": "code",
   "execution_count": 12,
   "id": "ea0eab0a",
   "metadata": {},
   "outputs": [
    {
     "data": {
      "text/html": [
       "<div>\n",
       "<style scoped>\n",
       "    .dataframe tbody tr th:only-of-type {\n",
       "        vertical-align: middle;\n",
       "    }\n",
       "\n",
       "    .dataframe tbody tr th {\n",
       "        vertical-align: top;\n",
       "    }\n",
       "\n",
       "    .dataframe thead th {\n",
       "        text-align: right;\n",
       "    }\n",
       "</style>\n",
       "<table border=\"1\" class=\"dataframe\">\n",
       "  <thead>\n",
       "    <tr style=\"text-align: right;\">\n",
       "      <th></th>\n",
       "      <th>Time</th>\n",
       "      <th>V1</th>\n",
       "      <th>V2</th>\n",
       "      <th>V3</th>\n",
       "      <th>V4</th>\n",
       "      <th>V5</th>\n",
       "      <th>V6</th>\n",
       "      <th>V7</th>\n",
       "      <th>V8</th>\n",
       "      <th>V9</th>\n",
       "      <th>...</th>\n",
       "      <th>V21</th>\n",
       "      <th>V22</th>\n",
       "      <th>V23</th>\n",
       "      <th>V24</th>\n",
       "      <th>V25</th>\n",
       "      <th>V26</th>\n",
       "      <th>V27</th>\n",
       "      <th>V28</th>\n",
       "      <th>Amount</th>\n",
       "      <th>Class</th>\n",
       "    </tr>\n",
       "  </thead>\n",
       "  <tbody>\n",
       "    <tr>\n",
       "      <th>0</th>\n",
       "      <td>0.0</td>\n",
       "      <td>-1.359807</td>\n",
       "      <td>-0.072781</td>\n",
       "      <td>2.536347</td>\n",
       "      <td>1.378155</td>\n",
       "      <td>-0.338321</td>\n",
       "      <td>0.462388</td>\n",
       "      <td>0.239599</td>\n",
       "      <td>0.098698</td>\n",
       "      <td>0.363787</td>\n",
       "      <td>...</td>\n",
       "      <td>-0.018307</td>\n",
       "      <td>0.277838</td>\n",
       "      <td>-0.110474</td>\n",
       "      <td>0.066928</td>\n",
       "      <td>0.128539</td>\n",
       "      <td>-0.189115</td>\n",
       "      <td>0.133558</td>\n",
       "      <td>-0.021053</td>\n",
       "      <td>149.62</td>\n",
       "      <td>0</td>\n",
       "    </tr>\n",
       "    <tr>\n",
       "      <th>1</th>\n",
       "      <td>0.0</td>\n",
       "      <td>1.191857</td>\n",
       "      <td>0.266151</td>\n",
       "      <td>0.166480</td>\n",
       "      <td>0.448154</td>\n",
       "      <td>0.060018</td>\n",
       "      <td>-0.082361</td>\n",
       "      <td>-0.078803</td>\n",
       "      <td>0.085102</td>\n",
       "      <td>-0.255425</td>\n",
       "      <td>...</td>\n",
       "      <td>-0.225775</td>\n",
       "      <td>-0.638672</td>\n",
       "      <td>0.101288</td>\n",
       "      <td>-0.339846</td>\n",
       "      <td>0.167170</td>\n",
       "      <td>0.125895</td>\n",
       "      <td>-0.008983</td>\n",
       "      <td>0.014724</td>\n",
       "      <td>2.69</td>\n",
       "      <td>0</td>\n",
       "    </tr>\n",
       "    <tr>\n",
       "      <th>2</th>\n",
       "      <td>1.0</td>\n",
       "      <td>-1.358354</td>\n",
       "      <td>-1.340163</td>\n",
       "      <td>1.773209</td>\n",
       "      <td>0.379780</td>\n",
       "      <td>-0.503198</td>\n",
       "      <td>1.800499</td>\n",
       "      <td>0.791461</td>\n",
       "      <td>0.247676</td>\n",
       "      <td>-1.514654</td>\n",
       "      <td>...</td>\n",
       "      <td>0.247998</td>\n",
       "      <td>0.771679</td>\n",
       "      <td>0.909412</td>\n",
       "      <td>-0.689281</td>\n",
       "      <td>-0.327642</td>\n",
       "      <td>-0.139097</td>\n",
       "      <td>-0.055353</td>\n",
       "      <td>-0.059752</td>\n",
       "      <td>378.66</td>\n",
       "      <td>0</td>\n",
       "    </tr>\n",
       "    <tr>\n",
       "      <th>3</th>\n",
       "      <td>1.0</td>\n",
       "      <td>-0.966272</td>\n",
       "      <td>-0.185226</td>\n",
       "      <td>1.792993</td>\n",
       "      <td>-0.863291</td>\n",
       "      <td>-0.010309</td>\n",
       "      <td>1.247203</td>\n",
       "      <td>0.237609</td>\n",
       "      <td>0.377436</td>\n",
       "      <td>-1.387024</td>\n",
       "      <td>...</td>\n",
       "      <td>-0.108300</td>\n",
       "      <td>0.005274</td>\n",
       "      <td>-0.190321</td>\n",
       "      <td>-1.175575</td>\n",
       "      <td>0.647376</td>\n",
       "      <td>-0.221929</td>\n",
       "      <td>0.062723</td>\n",
       "      <td>0.061458</td>\n",
       "      <td>123.50</td>\n",
       "      <td>0</td>\n",
       "    </tr>\n",
       "    <tr>\n",
       "      <th>4</th>\n",
       "      <td>2.0</td>\n",
       "      <td>-1.158233</td>\n",
       "      <td>0.877737</td>\n",
       "      <td>1.548718</td>\n",
       "      <td>0.403034</td>\n",
       "      <td>-0.407193</td>\n",
       "      <td>0.095921</td>\n",
       "      <td>0.592941</td>\n",
       "      <td>-0.270533</td>\n",
       "      <td>0.817739</td>\n",
       "      <td>...</td>\n",
       "      <td>-0.009431</td>\n",
       "      <td>0.798278</td>\n",
       "      <td>-0.137458</td>\n",
       "      <td>0.141267</td>\n",
       "      <td>-0.206010</td>\n",
       "      <td>0.502292</td>\n",
       "      <td>0.219422</td>\n",
       "      <td>0.215153</td>\n",
       "      <td>69.99</td>\n",
       "      <td>0</td>\n",
       "    </tr>\n",
       "  </tbody>\n",
       "</table>\n",
       "<p>5 rows × 31 columns</p>\n",
       "</div>"
      ],
      "text/plain": [
       "   Time        V1        V2        V3        V4        V5        V6        V7  \\\n",
       "0   0.0 -1.359807 -0.072781  2.536347  1.378155 -0.338321  0.462388  0.239599   \n",
       "1   0.0  1.191857  0.266151  0.166480  0.448154  0.060018 -0.082361 -0.078803   \n",
       "2   1.0 -1.358354 -1.340163  1.773209  0.379780 -0.503198  1.800499  0.791461   \n",
       "3   1.0 -0.966272 -0.185226  1.792993 -0.863291 -0.010309  1.247203  0.237609   \n",
       "4   2.0 -1.158233  0.877737  1.548718  0.403034 -0.407193  0.095921  0.592941   \n",
       "\n",
       "         V8        V9  ...       V21       V22       V23       V24       V25  \\\n",
       "0  0.098698  0.363787  ... -0.018307  0.277838 -0.110474  0.066928  0.128539   \n",
       "1  0.085102 -0.255425  ... -0.225775 -0.638672  0.101288 -0.339846  0.167170   \n",
       "2  0.247676 -1.514654  ...  0.247998  0.771679  0.909412 -0.689281 -0.327642   \n",
       "3  0.377436 -1.387024  ... -0.108300  0.005274 -0.190321 -1.175575  0.647376   \n",
       "4 -0.270533  0.817739  ... -0.009431  0.798278 -0.137458  0.141267 -0.206010   \n",
       "\n",
       "        V26       V27       V28  Amount  Class  \n",
       "0 -0.189115  0.133558 -0.021053  149.62      0  \n",
       "1  0.125895 -0.008983  0.014724    2.69      0  \n",
       "2 -0.139097 -0.055353 -0.059752  378.66      0  \n",
       "3 -0.221929  0.062723  0.061458  123.50      0  \n",
       "4  0.502292  0.219422  0.215153   69.99      0  \n",
       "\n",
       "[5 rows x 31 columns]"
      ]
     },
     "execution_count": 12,
     "metadata": {},
     "output_type": "execute_result"
    }
   ],
   "source": [
    "import pandas as pd\n",
    "import matplotlib.pyplot as plt\n",
    "\n",
    "datos = pd.read_csv(\"creditcard.csv\")\n",
    "datos.head()\n"
   ]
  },
  {
   "cell_type": "code",
   "execution_count": 13,
   "id": "ae6d314a",
   "metadata": {},
   "outputs": [
    {
     "name": "stdout",
     "output_type": "stream",
     "text": [
      "<class 'pandas.core.frame.DataFrame'>\n",
      "RangeIndex: 284807 entries, 0 to 284806\n",
      "Data columns (total 31 columns):\n",
      " #   Column  Non-Null Count   Dtype  \n",
      "---  ------  --------------   -----  \n",
      " 0   Time    284807 non-null  float64\n",
      " 1   V1      284807 non-null  float64\n",
      " 2   V2      284807 non-null  float64\n",
      " 3   V3      284807 non-null  float64\n",
      " 4   V4      284807 non-null  float64\n",
      " 5   V5      284807 non-null  float64\n",
      " 6   V6      284807 non-null  float64\n",
      " 7   V7      284807 non-null  float64\n",
      " 8   V8      284807 non-null  float64\n",
      " 9   V9      284807 non-null  float64\n",
      " 10  V10     284807 non-null  float64\n",
      " 11  V11     284807 non-null  float64\n",
      " 12  V12     284807 non-null  float64\n",
      " 13  V13     284807 non-null  float64\n",
      " 14  V14     284807 non-null  float64\n",
      " 15  V15     284807 non-null  float64\n",
      " 16  V16     284807 non-null  float64\n",
      " 17  V17     284807 non-null  float64\n",
      " 18  V18     284807 non-null  float64\n",
      " 19  V19     284807 non-null  float64\n",
      " 20  V20     284807 non-null  float64\n",
      " 21  V21     284807 non-null  float64\n",
      " 22  V22     284807 non-null  float64\n",
      " 23  V23     284807 non-null  float64\n",
      " 24  V24     284807 non-null  float64\n",
      " 25  V25     284807 non-null  float64\n",
      " 26  V26     284807 non-null  float64\n",
      " 27  V27     284807 non-null  float64\n",
      " 28  V28     284807 non-null  float64\n",
      " 29  Amount  284807 non-null  float64\n",
      " 30  Class   284807 non-null  int64  \n",
      "dtypes: float64(30), int64(1)\n",
      "memory usage: 67.4 MB\n"
     ]
    }
   ],
   "source": [
    "datos.info()"
   ]
  },
  {
   "cell_type": "code",
   "execution_count": 14,
   "id": "7403dc0d",
   "metadata": {},
   "outputs": [],
   "source": [
    "from sklearn.preprocessing import StandardScaler\n",
    "#datos.drop(['Time'], axis=1, inplace=True)\n",
    "datos['Amount'] = StandardScaler().fit_transform(datos['Amount'].values.reshape(-1,1))\n",
    "\n",
    "from sklearn.model_selection import train_test_split\n",
    "import tensorflow as tf\n",
    "\n",
    "#Seed value\n",
    "# Apparently you may use different seed values at each stage\n",
    "seed_value= 0\n",
    "\n",
    "# 1. Set the `PYTHONHASHSEED` environment variable at a fixed value\n",
    "import os\n",
    "os.environ['PYTHONHASHSEED']=str(seed_value)\n",
    "\n",
    "# 2. Set the `python` built-in pseudo-random generator at a fixed value\n",
    "import random\n",
    "random.seed(seed_value)\n",
    "\n",
    "# 3. Set the `numpy` pseudo-random generator at a fixed value\n",
    "import numpy as np\n",
    "np.random.seed(seed_value)\n",
    "tf.random.set_seed(seed_value)\n",
    "\n",
    "X_train, X_test = train_test_split(datos, test_size=0.2, random_state=42)\n",
    "\n",
    "X_train = X_train[X_train.Class == 0]\n",
    "X_train = X_train.drop(['Class'], axis=1)\n",
    "X_train = X_train.values\n",
    "\n",
    "Y_test = X_test['Class']\n",
    "X_test = X_test.drop(['Class'], axis=1)\n",
    "X_test = X_test.values"
   ]
  },
  {
   "cell_type": "code",
   "execution_count": 15,
   "id": "b8172982",
   "metadata": {},
   "outputs": [
    {
     "data": {
      "text/plain": [
       "((56962, 30), (227451, 30))"
      ]
     },
     "execution_count": 15,
     "metadata": {},
     "output_type": "execute_result"
    }
   ],
   "source": [
    "X_test.shape, X_train.shape"
   ]
  },
  {
   "cell_type": "code",
   "execution_count": 17,
   "id": "6c4d7380",
   "metadata": {},
   "outputs": [
    {
     "name": "stdout",
     "output_type": "stream",
     "text": [
      "Want to send 6823530 elements.\n",
      "Want to send 1708860 elements.\n"
     ]
    }
   ],
   "source": [
    "send_data(X_train)\n",
    "send_data(X_test)"
   ]
  },
  {
   "cell_type": "code",
   "execution_count": 27,
   "id": "f5fa66f7",
   "metadata": {},
   "outputs": [],
   "source": [
    "from keras.datasets import cifar10\n",
    "(X_train, y_train), (X_test, y_test) = cifar10.load_data()"
   ]
  },
  {
   "cell_type": "code",
   "execution_count": 31,
   "id": "57209ec5",
   "metadata": {},
   "outputs": [
    {
     "name": "stdout",
     "output_type": "stream",
     "text": [
      "(50000, 1)\n",
      "{6: 832, 9: 792, 4: 806, 1: 765, 2: 817, 7: 809, 8: 809, 3: 809, 5: 765, 0: 796}\n"
     ]
    }
   ],
   "source": [
    "from keras.utils import np_utils\n",
    "n_classes = 10\n",
    "Y_train = np_utils.to_categorical(y_train, n_classes)\n",
    "print(y_train.shape)\n",
    "classes = {}\n",
    "for t in y_train[:8000].reshape(-1):\n",
    "    if t in classes:\n",
    "        classes[t] += 1\n",
    "    else:\n",
    "        classes[t] = 1\n",
    "        \n",
    "print(classes)"
   ]
  },
  {
   "cell_type": "code",
   "execution_count": 110,
   "id": "43ad002b",
   "metadata": {},
   "outputs": [
    {
     "data": {
      "text/plain": [
       "((60000, 10), (60000, 28, 28))"
      ]
     },
     "execution_count": 110,
     "metadata": {},
     "output_type": "execute_result"
    }
   ],
   "source": [
    "Y_train.shape, X_train.shape"
   ]
  },
  {
   "cell_type": "code",
   "execution_count": 87,
   "id": "9f65a93d",
   "metadata": {},
   "outputs": [],
   "source": [
    "import tensorflow as tf\n",
    "from tensorflow import keras\n",
    "from keras import Sequential\n",
    "from keras import layers\n",
    "# Seed value\n",
    "# Apparently you may use different seed values at each stage\n",
    "seed_value= 0\n",
    "\n",
    "# 1. Set the `PYTHONHASHSEED` environment variable at a fixed value\n",
    "import os\n",
    "os.environ['PYTHONHASHSEED']=str(seed_value)\n",
    "\n",
    "# 2. Set the `python` built-in pseudo-random generator at a fixed value\n",
    "import random\n",
    "random.seed(seed_value)\n",
    "\n",
    "# 3. Set the `numpy` pseudo-random generator at a fixed value\n",
    "import numpy as np\n",
    "np.random.seed(seed_value)\n",
    "tf.random.set_seed(seed_value)\n",
    "model = Sequential()\n",
    "model.add(layers.Conv2D(4,3, input_shape=(28,28,1), activation=\"sigmoid\"))\n",
    "model.add(layers.MaxPooling2D(pool_size=(2,2)))\n",
    "model.add(layers.Flatten())\n",
    "model.add(layers.Dense(16, activation=\"sigmoid\"))\n",
    "model.add(layers.Dense(10, activation=\"softmax\"))\n",
    "opt = tf.optimizers.SGD(learning_rate = 0.01, momentum=0.0)\n",
    "model.compile(optimizer=opt, loss=\"categorical_crossentropy\",metrics=[\"accuracy\"])\n"
   ]
  },
  {
   "cell_type": "code",
   "execution_count": 88,
   "id": "c4b7a3c5",
   "metadata": {},
   "outputs": [
    {
     "name": "stdout",
     "output_type": "stream",
     "text": [
      "Epoch 1/25\n",
      "1875/1875 [==============================] - 6s 3ms/step - loss: 1.9596 - accuracy: 0.4675 - val_loss: 1.5232 - val_accuracy: 0.6567\n",
      "Epoch 2/25\n",
      "1875/1875 [==============================] - 6s 3ms/step - loss: 1.2279 - accuracy: 0.7348 - val_loss: 0.9847 - val_accuracy: 0.8056\n",
      "Epoch 3/25\n",
      "1875/1875 [==============================] - 6s 3ms/step - loss: 0.8420 - accuracy: 0.8259 - val_loss: 0.7122 - val_accuracy: 0.8554\n",
      "Epoch 4/25\n",
      "1875/1875 [==============================] - 6s 3ms/step - loss: 0.6388 - accuracy: 0.8624 - val_loss: 0.5565 - val_accuracy: 0.8838\n",
      "Epoch 5/25\n",
      "1875/1875 [==============================] - 7s 4ms/step - loss: 0.5150 - accuracy: 0.8841 - val_loss: 0.4570 - val_accuracy: 0.9006\n",
      "Epoch 6/25\n",
      "1875/1875 [==============================] - 7s 4ms/step - loss: 0.4311 - accuracy: 0.8995 - val_loss: 0.3857 - val_accuracy: 0.9109\n",
      "Epoch 7/25\n",
      "1875/1875 [==============================] - 8s 4ms/step - loss: 0.3749 - accuracy: 0.9095 - val_loss: 0.3385 - val_accuracy: 0.9205\n",
      "Epoch 8/25\n",
      "1875/1875 [==============================] - 8s 4ms/step - loss: 0.3353 - accuracy: 0.9172 - val_loss: 0.3069 - val_accuracy: 0.9264\n",
      "Epoch 9/25\n",
      "1875/1875 [==============================] - 8s 4ms/step - loss: 0.3049 - accuracy: 0.9235 - val_loss: 0.2812 - val_accuracy: 0.9301\n",
      "Epoch 10/25\n",
      "1875/1875 [==============================] - 6s 3ms/step - loss: 0.2817 - accuracy: 0.9283 - val_loss: 0.2608 - val_accuracy: 0.9319\n",
      "Epoch 11/25\n",
      "1875/1875 [==============================] - 6s 3ms/step - loss: 0.2633 - accuracy: 0.9318 - val_loss: 0.2441 - val_accuracy: 0.9369\n",
      "Epoch 12/25\n",
      "1875/1875 [==============================] - 6s 3ms/step - loss: 0.2475 - accuracy: 0.9362 - val_loss: 0.2301 - val_accuracy: 0.9400\n",
      "Epoch 13/25\n",
      "1875/1875 [==============================] - 6s 3ms/step - loss: 0.2352 - accuracy: 0.9380 - val_loss: 0.2225 - val_accuracy: 0.9419\n",
      "Epoch 14/25\n",
      "1875/1875 [==============================] - 6s 3ms/step - loss: 0.2240 - accuracy: 0.9410 - val_loss: 0.2096 - val_accuracy: 0.9446\n",
      "Epoch 15/25\n",
      "1875/1875 [==============================] - 6s 3ms/step - loss: 0.2140 - accuracy: 0.9430 - val_loss: 0.2001 - val_accuracy: 0.9464\n",
      "Epoch 16/25\n",
      "1875/1875 [==============================] - 6s 3ms/step - loss: 0.2060 - accuracy: 0.9453 - val_loss: 0.1941 - val_accuracy: 0.9472\n",
      "Epoch 17/25\n",
      "1875/1875 [==============================] - 6s 3ms/step - loss: 0.1983 - accuracy: 0.9469 - val_loss: 0.1875 - val_accuracy: 0.9507\n",
      "Epoch 18/25\n",
      "1875/1875 [==============================] - 6s 3ms/step - loss: 0.1915 - accuracy: 0.9484 - val_loss: 0.1805 - val_accuracy: 0.9506\n",
      "Epoch 19/25\n",
      "1875/1875 [==============================] - 6s 3ms/step - loss: 0.1855 - accuracy: 0.9498 - val_loss: 0.1792 - val_accuracy: 0.9501\n",
      "Epoch 20/25\n",
      "1875/1875 [==============================] - 6s 3ms/step - loss: 0.1800 - accuracy: 0.9516 - val_loss: 0.1742 - val_accuracy: 0.9517\n",
      "Epoch 21/25\n",
      "1875/1875 [==============================] - 6s 3ms/step - loss: 0.1750 - accuracy: 0.9527 - val_loss: 0.1691 - val_accuracy: 0.9525\n",
      "Epoch 22/25\n",
      "1875/1875 [==============================] - 6s 3ms/step - loss: 0.1708 - accuracy: 0.9531 - val_loss: 0.1647 - val_accuracy: 0.9540\n",
      "Epoch 23/25\n",
      "1875/1875 [==============================] - 6s 3ms/step - loss: 0.1668 - accuracy: 0.9542 - val_loss: 0.1606 - val_accuracy: 0.9554\n",
      "Epoch 24/25\n",
      "1875/1875 [==============================] - 6s 3ms/step - loss: 0.1624 - accuracy: 0.9560 - val_loss: 0.1572 - val_accuracy: 0.9566\n",
      "Epoch 25/25\n",
      "1875/1875 [==============================] - 6s 3ms/step - loss: 0.1587 - accuracy: 0.9563 - val_loss: 0.1527 - val_accuracy: 0.9579\n"
     ]
    }
   ],
   "source": [
    "history = model.fit(X_train, Y_train, batch_size=32, epochs=25, validation_data=(X_test,Y_test))"
   ]
  },
  {
   "cell_type": "code",
   "execution_count": 91,
   "id": "1d6069d7",
   "metadata": {},
   "outputs": [
    {
     "name": "stdout",
     "output_type": "stream",
     "text": [
      "[1.959566593170166, 1.227865219116211, 0.8419866561889648, 0.638801634311676, 0.5150259137153625, 0.4311065375804901, 0.37486109137535095, 0.3352672755718231, 0.304882675409317, 0.2817482054233551, 0.26331955194473267, 0.24746952950954437, 0.23516309261322021, 0.22400596737861633, 0.21401162445545197, 0.205986887216568, 0.19834379851818085, 0.19154666364192963, 0.1854851245880127, 0.18004532158374786, 0.17504964768886566, 0.1708144098520279, 0.16683049499988556, 0.16242073476314545, 0.15867090225219727]\n",
      "[1.5231969356536865, 0.984671413898468, 0.7122002840042114, 0.5565064549446106, 0.4570382833480835, 0.38568931818008423, 0.33854204416275024, 0.3068647086620331, 0.28120529651641846, 0.2608382999897003, 0.24407897889614105, 0.23009982705116272, 0.22249464690685272, 0.20964328944683075, 0.2000943124294281, 0.19414077699184418, 0.18749675154685974, 0.18052147328853607, 0.17919358611106873, 0.17418721318244934, 0.16909334063529968, 0.1646670550107956, 0.16063827276229858, 0.1572045236825943, 0.15271161496639252]\n",
      "[0.46753332018852234, 0.7347999811172485, 0.8258833289146423, 0.862416684627533, 0.884066641330719, 0.8995166420936584, 0.9095333218574524, 0.9171666502952576, 0.923466682434082, 0.9282833337783813, 0.9318333268165588, 0.9362333416938782, 0.9379833340644836, 0.941016674041748, 0.9429833292961121, 0.9452999830245972, 0.9469333291053772, 0.9483833312988281, 0.9497500061988831, 0.9516333341598511, 0.9527333378791809, 0.9531499743461609, 0.9542166590690613, 0.9559999704360962, 0.956250011920929]\n",
      "[0.6567000150680542, 0.8055999875068665, 0.855400025844574, 0.8838000297546387, 0.900600016117096, 0.9108999967575073, 0.9204999804496765, 0.9264000058174133, 0.9301000237464905, 0.9319000244140625, 0.9369000196456909, 0.9399999976158142, 0.9419000148773193, 0.944599986076355, 0.946399986743927, 0.9472000002861023, 0.9506999850273132, 0.9506000280380249, 0.9501000046730042, 0.95169997215271, 0.9524999856948853, 0.9539999961853027, 0.9553999900817871, 0.95660001039505, 0.9578999876976013]\n"
     ]
    }
   ],
   "source": [
    "print(history.history['loss'])\n",
    "print(history.history['val_loss'])\n",
    "print(history.history['accuracy'])\n",
    "print(history.history['val_accuracy'])"
   ]
  },
  {
   "cell_type": "code",
   "execution_count": 129,
   "id": "01783f39",
   "metadata": {},
   "outputs": [
    {
     "name": "stdout",
     "output_type": "stream",
     "text": [
      "Want to send 36 elements.\n",
      "Want to send 10816 elements.\n",
      "Want to send 160 elements.\n"
     ]
    }
   ],
   "source": [
    "conv_layer = model.layers[0]\n",
    "conv_weights, conv_biases = conv_layer.get_weights()\n",
    "\n",
    "dense1_layer = model.layers[3]\n",
    "dense1_weights, dense1_biases = dense1_layer.get_weights()\n",
    "\n",
    "dense2_layer = model.layers[4]\n",
    "dense2_weights, dense2_biases = dense2_layer.get_weights()\n",
    "\n",
    "send_data(conv_weights)\n",
    "send_data(dense1_weights)\n",
    "send_data(dense2_weights)"
   ]
  },
  {
   "cell_type": "code",
   "execution_count": 117,
   "id": "7017cded",
   "metadata": {},
   "outputs": [
    {
     "data": {
      "text/plain": [
       "((60000, 28, 28), (10000,))"
      ]
     },
     "execution_count": 117,
     "metadata": {},
     "output_type": "execute_result"
    }
   ],
   "source": [
    "X_train.shape,y_test.shape"
   ]
  },
  {
   "cell_type": "code",
   "execution_count": 131,
   "id": "4f549de2",
   "metadata": {},
   "outputs": [
    {
     "name": "stdout",
     "output_type": "stream",
     "text": [
      "Want to send 47040000 elements.\n",
      "Want to send 60000 elements.\n",
      "Want to send 7840000 elements.\n",
      "Want to send 10000 elements.\n"
     ]
    }
   ],
   "source": [
    "send_data(X_train)\n",
    "send_data(y_train)\n",
    "send_data(X_test)\n",
    "send_data(y_test)"
   ]
  },
  {
   "cell_type": "code",
   "execution_count": 34,
   "id": "0f1e4614",
   "metadata": {},
   "outputs": [],
   "source": [
    "Y_test = np_utils.to_categorical(y_test, n_classes)"
   ]
  },
  {
   "cell_type": "code",
   "execution_count": 312,
   "id": "b4a5a1bc",
   "metadata": {},
   "outputs": [
    {
     "name": "stdout",
     "output_type": "stream",
     "text": [
      "Want to send 7840000 elements.\n",
      "Want to send 100000 elements.\n"
     ]
    }
   ],
   "source": []
  },
  {
   "cell_type": "code",
   "execution_count": 241,
   "id": "300c273f",
   "metadata": {},
   "outputs": [],
   "source": [
    "from sklearn.datasets import load_digits\n",
    "digits = load_digits()\n",
    "X_train, y_train = digits.data[:1000], digits.target[:1000]\n",
    "X_test, y_test = digits.data[1000:], digits.target[1000:]\n",
    "from keras.utils import np_utils\n",
    "Y_train = np_utils.to_categorical(y_train, 10)\n",
    "Y_test = np_utils.to_categorical(y_test, 10)"
   ]
  },
  {
   "cell_type": "code",
   "execution_count": 42,
   "id": "aa081526",
   "metadata": {},
   "outputs": [
    {
     "name": "stdout",
     "output_type": "stream",
     "text": [
      "Want to send 47040000 elements.\n",
      "Want to send 600000 elements.\n",
      "Want to send 7840000 elements.\n",
      "Want to send 100000 elements.\n"
     ]
    }
   ],
   "source": [
    "send_data(X_train)\n",
    "send_data(Y_train)\n",
    "send_data(X_test)\n",
    "send_data(Y_test)"
   ]
  },
  {
   "cell_type": "code",
   "execution_count": 157,
   "id": "b954e4c7",
   "metadata": {},
   "outputs": [
    {
     "data": {
      "text/plain": [
       "(64,)"
      ]
     },
     "execution_count": 157,
     "metadata": {},
     "output_type": "execute_result"
    }
   ],
   "source": [
    "X_train[0].shape"
   ]
  },
  {
   "cell_type": "code",
   "execution_count": 2,
   "id": "212c68c6",
   "metadata": {},
   "outputs": [
    {
     "name": "stdout",
     "output_type": "stream",
     "text": [
      "Want to send 600 elements.\n",
      "Want to send 600 elements.\n"
     ]
    }
   ],
   "source": [
    "np.random.seed(42)\n",
    "X = np.random.uniform(0.0,1.0,(600,))\n",
    "y = np.sin(2*X * math.pi)\n",
    "send_data(X)\n",
    "send_data(y)"
   ]
  },
  {
   "cell_type": "markdown",
   "id": "503681a7",
   "metadata": {},
   "source": [
    "## Federated Learning server"
   ]
  },
  {
   "cell_type": "code",
   "execution_count": null,
   "id": "bc918568",
   "metadata": {},
   "outputs": [],
   "source": [
    "import serial\n",
    "import struct\n",
    "import time\n",
    "import numpy as np"
   ]
  },
  {
   "cell_type": "code",
   "execution_count": null,
   "id": "ca0e8440",
   "metadata": {},
   "outputs": [],
   "source": [
    "def read_number(msg):\n",
    "    while True:\n",
    "        try:\n",
    "            #return 2;\n",
    "            return int(input(msg))\n",
    "        except: print(\"ERROR: Not a number\")\n",
    "\n",
    "def read_port(msg):\n",
    "    while True:\n",
    "        try:\n",
    "            port = input(msg)\n",
    "            #port = \"COM8\";\n",
    "            return serial.Serial(port, 9600)\n",
    "        except: print(f\"ERROR: Wrong port connection ({port})\")\n",
    "            \n",
    "def print_until_keyword(keyword, arduino):\n",
    "    while True: \n",
    "        msg = arduino.readline().decode()\n",
    "        if msg[:-2] == keyword: break\n",
    "        else: print(f'({arduino.port}):',msg, end='')"
   ]
  },
  {
   "cell_type": "code",
   "execution_count": null,
   "id": "aa753d3a",
   "metadata": {},
   "outputs": [],
   "source": [
    "w1 = np.array([5.10075, -2.34725, -0.268198, 2.3998, 1.63544, -3.94894, -2.46922, -1.45429])\n",
    "w2 = np.array([-0.584531, 5.29012, -1.36045, 0.340908, 3.06782, -1.70258, -0.196513, 0.239279, -0.140469, -3.46816,\n",
    "               0.0385245, -0.397041, -0.858826, 0.127886, 0.372954, -0.623964, -0.603778, -0.0325985, -0.195163, \n",
    "               0.139136, -0.399422, 0.140439, -0.192801, -0.372797, -0.766225, 2.6309, -0.546577, -0.258752, -0.252067,\n",
    "               -1.06687, -0.863667, 0.0594781, -0.188053, 1.87275, -0.811148, -0.231941, 0.0277837, -0.367602, -0.620624,\n",
    "               -0.382402, -0.263815, -4.86956, 1.28105, -0.368157, -0.729028, 1.6762, 0.323958, -0.374071, -0.150762, \n",
    "               -2.9598, 0.988454, -0.0849946, -0.515993, 0.612129, -0.00788962, 0.0940231, -0.112463, -1.83384, 0.0821268,\n",
    "               -0.796045, -1.37182, 0.137598, -0.316206, -0.624503 ])\n",
    "w3 = np.array([-0.227236, -4.99889, -2.20101, 0.706044, 3.64756, -3.7962, -0.514728, 0.691067 ])\n",
    "\n",
    "b1 = np.array([-5.27152, 0, 0, 0, 0, 0, 0, 0 ])\n",
    "b2 = np.array([-0.503742, -0.980532, -0.0520533, -0.559182, -0.546806, -0.179337, -0.677594, -0.476756 ])\n",
    "b3 = np.array([3.4255,])"
   ]
  },
  {
   "cell_type": "markdown",
   "id": "0be9e9cf",
   "metadata": {},
   "source": [
    "## SHOW AVAILABLE DEVICES"
   ]
  },
  {
   "cell_type": "code",
   "execution_count": null,
   "id": "877d11f1",
   "metadata": {},
   "outputs": [],
   "source": [
    "def getDevices():\n",
    "    # num_devices = read_number(\"Number of devices: \")\n",
    "    print(\"Hardcoded to 1 device.\")\n",
    "    num_devices = 1\n",
    "\n",
    "    available_ports = comports()\n",
    "    print(\"Available ports:\")\n",
    "    for available_port in available_ports: print(available_port)\n",
    "\n",
    "    devices = [read_port(f\"Port device_{i+1}: \") for i in range(num_devices)]\n",
    "    return devices"
   ]
  },
  {
   "cell_type": "code",
   "execution_count": null,
   "id": "3b55d651",
   "metadata": {},
   "outputs": [],
   "source": [
    "devices = getDevices()"
   ]
  },
  {
   "cell_type": "code",
   "execution_count": null,
   "id": "16dc77fa",
   "metadata": {},
   "outputs": [],
   "source": [
    "devices"
   ]
  },
  {
   "cell_type": "code",
   "execution_count": null,
   "id": "e7f15e61",
   "metadata": {},
   "outputs": [],
   "source": [
    "# Send the blank model to all the devices\n",
    "def receive_model_info(device):\n",
    "    device.reset_input_buffer()\n",
    "    [num_layers] = struct.unpack('i', device.read(4))\n",
    "    print(num_layers)"
   ]
  },
  {
   "cell_type": "code",
   "execution_count": 97,
   "id": "5b72ad07",
   "metadata": {},
   "outputs": [
    {
     "name": "stdout",
     "output_type": "stream",
     "text": [
      "544695662\n"
     ]
    }
   ],
   "source": [
    "receive_model_info(devices[0])"
   ]
  },
  {
   "cell_type": "code",
   "execution_count": 12,
   "id": "df8c6957",
   "metadata": {},
   "outputs": [],
   "source": [
    "train_losses = [0.653732,0.456287,0.377026,0.333005,0.311223,0.298564,0.290490,0.284736,0.281280,0.276697,0.272758,0.270058,0.267456,0.264613,0.262231,0.258289,0.259731,0.251473,0.248619,0.246235,0.249479,0.245718,0.246560,0.244858,0.240703,0.239136,0.237776,0.238315,0.240437,0.237260,0.236310,0.235259,0.237012,0.240877,0.240100,0.242673,0.241052,0.235955,0.236549,0.235867,0.234365,0.232589,0.231748,0.236696,0.237362,0.241336,0.237393,0.233723,0.241492,0.239665,0.238782,0.234975,0.232312,0.230505,0.230013,0.230543,0.228777,0.228977,0.227848,0.227258,0.227628,0.227274,0.228029,0.226361,0.226033,0.225091,0.225235,0.224320,0.222911,0.222226,0.222917,0.223363,0.221169,0.217341,0.214022,0.213458,0.209637,0.210007,0.207863,0.207908,0.206735,0.206062,0.205988,0.205369,0.204345,0.203242,0.203038,0.204159,0.216989,0.209756,0.209659,0.212440,0.213374,0.206426,0.203496,0.203907,0.203008,0.203266,0.203566,0.201539]\n",
    "valid_losses = [1.192303, 0.537187, 0.437282, 0.375422, 0.345881, 0.329913, 0.320031, 0.313292, 0.308346, 0.305042, 0.301358, 0.298535, 0.296016, 0.293476, 0.290607, 0.287229, 0.283169, 0.282327, 0.275666, 0.272710, 0.272451, 0.274435, 0.268224, 0.275136, 0.268524, 0.265475, 0.264274, 0.262459, 0.265995, 0.260552, 0.259308, 0.258443, 0.257927, 0.259109, 0.262153, 0.263756, 0.261739, 0.258631, 0.255981, 0.254627, 0.255253, 0.254250, 0.252722, 0.253764, 0.254876, 0.255700, 0.259812, 0.254433, 0.252767, 0.258263, 0.256950, 0.256661, 0.253375, 0.254567, 0.252486, 0.250268, 0.249571, 0.249368, 0.248257, 0.247731, 0.247947, 0.248330, 0.246958, 0.248841, 0.246391, 0.246753, 0.245757, 0.245622, 0.245151, 0.246210, 0.242728, 0.244141, 0.245553, 0.238300, 0.237056, 0.234817, 0.233832, 0.230362, 0.229202, 0.230662, 0.228114, 0.227778, 0.232526, 0.226953, 0.231894, 0.226147, 0.226100, 0.225366, 0.225702, 0.240050, 0.228194, 0.229396, 0.243628, 0.230433, 0.226718, 0.225365, 0.225436, 0.225813, 0.226272, 0.224784, ]"
   ]
  },
  {
   "cell_type": "code",
   "execution_count": 13,
   "id": "63b3b024",
   "metadata": {},
   "outputs": [
    {
     "data": {
      "image/png": "[encoded data removed]",
      "text/plain": [
       "<Figure size 640x480 with 1 Axes>"
      ]
     },
     "metadata": {},
     "output_type": "display_data"
    }
   ],
   "source": [
    "import matplotlib.pyplot as plt\n",
    "\n",
    "plt.plot(train_losses)\n",
    "plt.plot(valid_losses)\n",
    "plt.title('model loss')\n",
    "plt.ylabel('loss')\n",
    "plt.xlabel('epoch')\n",
    "plt.legend(['train', 'val'], loc='upper left')\n",
    "plt.show()"
   ]
  },
  {
   "cell_type": "code",
   "execution_count": 1,
   "id": "f651a5ec",
   "metadata": {},
   "outputs": [],
   "source": [
    "cnn_loss = [0.560942,\n",
    "0.203308,\n",
    "0.171505,\n",
    "0.145375,\n",
    "0.127731,\n",
    "0.115324,\n",
    "0.115229,\n",
    "0.100846,\n",
    "0.103983,\n",
    "0.096259,\n",
    "0.107010,\n",
    "0.097250,\n",
    "0.083607,\n",
    "0.083666,\n",
    "0.086973,\n",
    "0.076393,\n",
    "0.077556,\n",
    "0.078663,\n",
    "0.076998,\n",
    "0.075172,\n",
    "0.068235,\n",
    "0.066984,\n",
    "0.065358,\n",
    "0.074433,\n",
    "0.069517,\n",
    "0.063426,\n",
    "0.060610,\n",
    "0.058569,\n",
    "0.056841,\n",
    "0.060664,\n",
    "0.058285,\n",
    "0.054372,\n",
    "0.056360,\n",
    "0.054412,\n",
    "0.053042,\n",
    "0.059652,\n",
    "0.055303,\n",
    "0.052425,\n",
    "0.054429,\n",
    "0.053337,\n",
    "0.050869,\n",
    "0.053435,\n",
    "0.047549,\n",
    "0.043689,\n",
    "0.044193,\n",
    "0.049996,\n",
    "0.046473,\n",
    "0.041482,\n",
    "0.039951,\n",
    "0.038439,\n",
    "0.039240,\n",
    "0.038330,\n",
    "0.037793,\n",
    "0.036544,\n",
    "0.036770,\n",
    "0.035654,\n",
    "0.034570,\n",
    "0.034514,\n",
    "0.033683,\n",
    "0.034449,\n",
    "0.034659,\n",
    "0.031552,\n",
    "0.033146,\n",
    "0.032138,\n",
    "0.031815,\n",
    "0.033538,\n",
    "0.032247,\n",
    "0.033626,\n",
    "0.031582,\n",
    "0.032129,\n",
    "0.028221,\n",
    "0.027698,\n",
    "0.026924,\n",
    "0.028609,\n",
    "0.032028,\n",
    "0.028988,\n",
    "0.030981,\n",
    "0.032806,\n",
    "0.030893,\n",
    "0.029545,\n",
    "0.027077,\n",
    "0.029130,\n",
    "0.026807,\n",
    "0.026051,\n",
    "0.027483,\n",
    "0.030431,\n",
    "0.027511,\n",
    "0.024890,\n",
    "0.028035,\n",
    "0.030056,\n",
    "0.024706,\n",
    "0.025181,\n",
    "0.024864,\n",
    "0.022727,\n",
    "0.030795,\n",
    "0.030366,\n",
    "0.024090,\n",
    "0.025034,\n",
    "0.027748,\n",
    "0.028136,]\n",
    "\n",
    "cnn_train_acc = [0.861367, \n",
    "0.943867, \n",
    "0.950967, \n",
    "0.958067, \n",
    "0.961383, \n",
    "0.965200, \n",
    "0.965767, \n",
    "0.969367, \n",
    "0.968350, \n",
    "0.970967, \n",
    "0.966400, \n",
    "0.970050, \n",
    "0.974550, \n",
    "0.973783, \n",
    "0.973100, \n",
    "0.976300, \n",
    "0.976250, \n",
    "0.975233, \n",
    "0.976867, \n",
    "0.976983, \n",
    "0.979167, \n",
    "0.979550, \n",
    "0.979817, \n",
    "0.977400, \n",
    "0.978750, \n",
    "0.980650, \n",
    "0.981450, \n",
    "0.982100, \n",
    "0.982867, \n",
    "0.981467, \n",
    "0.981833, \n",
    "0.983150, \n",
    "0.982467, \n",
    "0.983833, \n",
    "0.984083, \n",
    "0.981617, \n",
    "0.983133, \n",
    "0.984583, \n",
    "0.983300, \n",
    "0.983400, \n",
    "0.983950, \n",
    "0.983333, \n",
    "0.985533, \n",
    "0.986733, \n",
    "0.986817, \n",
    "0.984383, \n",
    "0.985750, \n",
    "0.987517, \n",
    "0.987900, \n",
    "0.988683, \n",
    "0.988267, \n",
    "0.988467, \n",
    "0.988883, \n",
    "0.989817, \n",
    "0.988883, \n",
    "0.989567, \n",
    "0.990167, \n",
    "0.989867, \n",
    "0.990083, \n",
    "0.989667, \n",
    "0.990050, \n",
    "0.990917, \n",
    "0.990500, \n",
    "0.991033, \n",
    "0.991317, \n",
    "0.989900, \n",
    "0.990633, \n",
    "0.990067, \n",
    "0.990317, \n",
    "0.990467, \n",
    "0.992267, \n",
    "0.992483, \n",
    "0.992500, \n",
    "0.992117, \n",
    "0.990633, \n",
    "0.991667, \n",
    "0.990817, \n",
    "0.990533, \n",
    "0.990483, \n",
    "0.990950, \n",
    "0.992183, \n",
    "0.991283, \n",
    "0.992333, \n",
    "0.992650, \n",
    "0.991900, \n",
    "0.990700, \n",
    "0.991933, \n",
    "0.992500, \n",
    "0.991683, \n",
    "0.990383, \n",
    "0.992950, \n",
    "0.992950, \n",
    "0.992850, \n",
    "0.993917, \n",
    "0.990250, \n",
    "0.990883, \n",
    "0.993467, \n",
    "0.993183, \n",
    "0.991917, \n",
    "0.991633]\n",
    "\n",
    "cnn_valid_loss = [0.249087,\n",
    "0.161238,\n",
    "0.163611,\n",
    "0.122539,\n",
    "0.107188,\n",
    "0.115086,\n",
    "0.104239,\n",
    "0.101666,\n",
    "0.096495,\n",
    "0.110017,\n",
    "0.105761,\n",
    "0.095396,\n",
    "0.089581,\n",
    "0.088016,\n",
    "0.090101,\n",
    "0.085189,\n",
    "0.091106,\n",
    "0.088233,\n",
    "0.097248,\n",
    "0.086152,\n",
    "0.084508,\n",
    "0.075919,\n",
    "0.088791,\n",
    "0.085399,\n",
    "0.078951,\n",
    "0.080585,\n",
    "0.079871,\n",
    "0.074653,\n",
    "0.078538,\n",
    "0.100040,\n",
    "0.073120,\n",
    "0.073926,\n",
    "0.080815,\n",
    "0.075142,\n",
    "0.077218,\n",
    "0.085608,\n",
    "0.075683,\n",
    "0.081892,\n",
    "0.074690,\n",
    "0.079567,\n",
    "0.078028,\n",
    "0.078655,\n",
    "0.072065,\n",
    "0.078652,\n",
    "0.078301,\n",
    "0.080887,\n",
    "0.073627,\n",
    "0.069712,\n",
    "0.069798,\n",
    "0.073512,\n",
    "0.069657,\n",
    "0.074973,\n",
    "0.069274,\n",
    "0.072052,\n",
    "0.068210,\n",
    "0.072103,\n",
    "0.071211,\n",
    "0.072899,\n",
    "0.070612,\n",
    "0.073650,\n",
    "0.071623,\n",
    "0.072423,\n",
    "0.070153,\n",
    "0.070170,\n",
    "0.073584,\n",
    "0.075096,\n",
    "0.075081,\n",
    "0.076304,\n",
    "0.072092,\n",
    "0.073804,\n",
    "0.072086,\n",
    "0.070151,\n",
    "0.072976,\n",
    "0.077453,\n",
    "0.075813,\n",
    "0.076625,\n",
    "0.087169,\n",
    "0.080329,\n",
    "0.076205,\n",
    "0.076112,\n",
    "0.074944,\n",
    "0.076682,\n",
    "0.071597,\n",
    "0.078397,\n",
    "0.077753,\n",
    "0.077030,\n",
    "0.078711,\n",
    "0.075884,\n",
    "0.071689,\n",
    "0.070147,\n",
    "0.071673,\n",
    "0.072026,\n",
    "0.072793,\n",
    "0.072930,\n",
    "0.079448,\n",
    "0.075725,\n",
    "0.076468,\n",
    "0.077805,\n",
    "0.077542,\n",
    "0.082485,]\n",
    "\n",
    "cnn_valid_acc = [0.936900,\n",
    "0.952500,\n",
    "0.953100,\n",
    "0.961800,\n",
    "0.966500,\n",
    "0.964500,\n",
    "0.967200,\n",
    "0.967000,\n",
    "0.970000,\n",
    "0.964300,\n",
    "0.965600,\n",
    "0.969100,\n",
    "0.969800,\n",
    "0.970700,\n",
    "0.971100,\n",
    "0.971900,\n",
    "0.970800,\n",
    "0.972100,\n",
    "0.967300,\n",
    "0.973400,\n",
    "0.971700,\n",
    "0.973100,\n",
    "0.971000,\n",
    "0.972100,\n",
    "0.974000,\n",
    "0.974000,\n",
    "0.973500,\n",
    "0.974900,\n",
    "0.974200,\n",
    "0.968100,\n",
    "0.976100,\n",
    "0.976500,\n",
    "0.974400,\n",
    "0.974400,\n",
    "0.975300,\n",
    "0.971400,\n",
    "0.974800,\n",
    "0.973200,\n",
    "0.974800,\n",
    "0.972500,\n",
    "0.973900,\n",
    "0.974000,\n",
    "0.976000,\n",
    "0.973500,\n",
    "0.974800,\n",
    "0.972800,\n",
    "0.976500,\n",
    "0.977000,\n",
    "0.976600,\n",
    "0.975700,\n",
    "0.976200,\n",
    "0.975200,\n",
    "0.977000,\n",
    "0.977000,\n",
    "0.977700,\n",
    "0.976700,\n",
    "0.976900,\n",
    "0.976100,\n",
    "0.977500,\n",
    "0.976100,\n",
    "0.976900,\n",
    "0.975600,\n",
    "0.977600,\n",
    "0.978000,\n",
    "0.976100,\n",
    "0.976600,\n",
    "0.976700,\n",
    "0.977300,\n",
    "0.977200,\n",
    "0.976000,\n",
    "0.977100,\n",
    "0.977300,\n",
    "0.976400,\n",
    "0.975700,\n",
    "0.975500,\n",
    "0.975300,\n",
    "0.971900,\n",
    "0.973300,\n",
    "0.976000,\n",
    "0.976500,\n",
    "0.977300,\n",
    "0.976900,\n",
    "0.978800,\n",
    "0.975900,\n",
    "0.975800,\n",
    "0.976300,\n",
    "0.976700,\n",
    "0.977300,\n",
    "0.977400,\n",
    "0.978100,\n",
    "0.977800,\n",
    "0.978900,\n",
    "0.977200,\n",
    "0.977300,\n",
    "0.974500,\n",
    "0.976600,\n",
    "0.976600,\n",
    "0.975800,\n",
    "0.976400,\n",
    "0.975300,]"
   ]
  },
  {
   "cell_type": "code",
   "execution_count": null,
   "id": "431dd0af",
   "metadata": {},
   "outputs": [],
   "source": []
  },
  {
   "cell_type": "code",
   "execution_count": 2,
   "id": "40d2791f",
   "metadata": {},
   "outputs": [
    {
     "data": {
      "image/png": "[encoded data removed]",
      "text/plain": [
       "<Figure size 640x480 with 1 Axes>"
      ]
     },
     "metadata": {},
     "output_type": "display_data"
    }
   ],
   "source": [
    "import matplotlib.pyplot as plt\n",
    "\n",
    "plt.plot(cnn_loss)\n",
    "plt.plot(cnn_valid_loss)\n",
    "plt.title('cnn model loss (our implementation)')\n",
    "plt.ylabel('loss')\n",
    "plt.xlabel('epoch')\n",
    "plt.legend(['train', 'val'], loc='upper left')\n",
    "plt.show()"
   ]
  },
  {
   "cell_type": "code",
   "execution_count": 3,
   "id": "6420ed58",
   "metadata": {},
   "outputs": [
    {
     "data": {
      "image/png": "[encoded data removed]",
      "text/plain": [
       "<Figure size 640x480 with 1 Axes>"
      ]
     },
     "metadata": {},
     "output_type": "display_data"
    }
   ],
   "source": [
    "import matplotlib.pyplot as plt\n",
    "\n",
    "plt.plot(cnn_train_acc)\n",
    "plt.plot(cnn_valid_acc)\n",
    "plt.title('cnn model accuracy (our implementation)')\n",
    "plt.ylabel('accuracy')\n",
    "plt.xlabel('epoch')\n",
    "plt.legend(['train', 'val'], loc='upper left')\n",
    "plt.show()"
   ]
  },
  {
   "cell_type": "markdown",
   "id": "d69ec3fc",
   "metadata": {},
   "source": [
    "### KEYWORD SPOTTING"
   ]
  },
  {
   "cell_type": "code",
   "execution_count": 5,
   "id": "fd2fb51d",
   "metadata": {},
   "outputs": [],
   "source": [
    "# Keyword samples split\n",
    "samples_folder = \"./datasets/keywords_v3\"\n",
    "train_samples_split = 160 # Number of samples for training of each keyword\n",
    "test_samples_split = 20   # Number of samples for training of each keyword\n",
    "keywords_buttons = {\n",
    "    \"montserrat\": 1,\n",
    "    \"pedraforca\": 2,\n",
    "    \"vermell\": 3,\n",
    "    \"blau\": 4,\n",
    "    #\"verd\": 5,\n",
    "    # \"up\": 1,\n",
    "    # \"backward\": 2,\n",
    "    # \"forward\": 3,\n",
    "    # \"down\": 4,\n",
    "    # \"left\": 3,\n",
    "    # \"right\": 4\n",
    "}"
   ]
  },
  {
   "cell_type": "code",
   "execution_count": 6,
   "id": "af4e6333",
   "metadata": {},
   "outputs": [],
   "source": [
    "def readKeyword(path_dir, keyword):\n",
    "    with open(path_dir) as f:\n",
    "        data = json.load(f)\n",
    "        values = data['payload']['values']\n",
    "        info = keyword.split('/')\n",
    "        return info[0], values\n"
   ]
  },
  {
   "cell_type": "code",
   "execution_count": 7,
   "id": "5efaf44d",
   "metadata": {},
   "outputs": [
    {
     "name": "stdout",
     "output_type": "stream",
     "text": [
      "Total available training keywords: 640\n",
      "Total available testing keywords: 80\n"
     ]
    }
   ],
   "source": [
    "import random\n",
    "train_samples_split = 160 # Number of samples for training of each keyword\n",
    "test_samples_split = 20   # Number of samples for training of each keyword\n",
    "\n",
    "# Experiment sizes\n",
    "training_epochs = 160   # Amount of training epochs. Can't be more than kws * train_samples_split\n",
    "testing_epochs = 60     # Amount of test samples of each keyword. Can't be more than kws * test_samples_split\n",
    "\n",
    "# Load the dataset\n",
    "words = list(keywords_buttons.keys())\n",
    "files = []\n",
    "test_files = []\n",
    "for i, word in enumerate(words):\n",
    "    file_list = os.listdir(f\"{samples_folder}/{word}\")\n",
    "    if (len(file_list) < train_samples_split + test_samples_split): \n",
    "        sys.exit(f\"Not enough samples for keyword {word}\")\n",
    "    random.shuffle(file_list)\n",
    "    files.append(list(map(lambda f: f\"{word}/{f}\", file_list[0:train_samples_split])))\n",
    "    test_files.append(list(map(lambda f: f\"{word}/{f}\", file_list[train_samples_split:(train_samples_split+test_samples_split)])))\n",
    "\n",
    "keywords = list(sum(zip(*files), ()))\n",
    "test_keywords = list(sum(zip(*test_files), ()))\n",
    "\n",
    "debug = True\n",
    "if debug: print(f\"Total available training keywords: {len(keywords)}\")\n",
    "if debug: print(f\"Total available testing keywords: {len(test_keywords)}\")"
   ]
  },
  {
   "cell_type": "code",
   "execution_count": 8,
   "id": "a0b50bbc",
   "metadata": {},
   "outputs": [
    {
     "name": "stdout",
     "output_type": "stream",
     "text": [
      "{'vermell': 0, 'pedraforca': 1, 'montserrat': 2, 'blau': 3}\n",
      "{'vermell': 0, 'pedraforca': 1, 'montserrat': 2, 'blau': 3}\n"
     ]
    }
   ],
   "source": [
    "def get_x_y(data):\n",
    "    ys = []\n",
    "    xs = []\n",
    "    train_names = []\n",
    "    for keyword in data:\n",
    "        info = keyword.split('/')\n",
    "        train_names.append(info[0])\n",
    "\n",
    "    train_names = set(train_names)\n",
    "    test_names = []\n",
    "    for keyword in test_keywords:\n",
    "        info = keyword.split('/')\n",
    "        test_names.append(info[0])\n",
    "\n",
    "    test_names = set(test_names)\n",
    "    name_to_int = {x:i for i,x in enumerate(test_names)}\n",
    "    print(name_to_int)\n",
    "    for keyword in data:\n",
    "        name, values = readKeyword(\"./datasets/keywords_v3/\" + keyword, keyword)\n",
    "        ys.append(name_to_int[name])\n",
    "        xs.append(values)\n",
    "    return xs, ys\n",
    "\n",
    "random.shuffle(keywords)\n",
    "random.shuffle(test_keywords)\n",
    "x_train, y_train = get_x_y(keywords)\n",
    "x_test, y_test = get_x_y(test_keywords)"
   ]
  },
  {
   "cell_type": "code",
   "execution_count": 136,
   "id": "98414cb5",
   "metadata": {},
   "outputs": [
    {
     "name": "stdout",
     "output_type": "stream",
     "text": [
      "Collecting librosa\n",
      "  Downloading librosa-0.10.0.post2-py3-none-any.whl (253 kB)\n",
      "\u001b[2K     \u001b[90m━━━━━━━━━━━━━━━━━━━━━━━━━━━━━━━━━━━━━━━\u001b[0m \u001b[32m253.0/253.0 kB\u001b[0m \u001b[31m1.3 MB/s\u001b[0m eta \u001b[36m0:00:00\u001b[0ma \u001b[36m0:00:01\u001b[0m\n",
      "\u001b[?25hCollecting numba>=0.51.0\n",
      "  Downloading numba-0.57.0-cp310-cp310-macosx_10_9_x86_64.whl (2.5 MB)\n",
      "\u001b[2K     \u001b[90m━━━━━━━━━━━━━━━━━━━━━━━━━━━━━━━━━━━━━━━━\u001b[0m \u001b[32m2.5/2.5 MB\u001b[0m \u001b[31m2.3 MB/s\u001b[0m eta \u001b[36m0:00:00\u001b[0m00:01\u001b[0m00:01\u001b[0m\n",
      "\u001b[?25hRequirement already satisfied: typing-extensions>=4.1.1 in /opt/anaconda3/envs/tfg_env/lib/python3.10/site-packages (from librosa) (4.4.0)\n",
      "Requirement already satisfied: scikit-learn>=0.20.0 in /opt/anaconda3/envs/tfg_env/lib/python3.10/site-packages (from librosa) (1.1.3)\n",
      "Collecting soxr>=0.3.2\n",
      "  Downloading soxr-0.3.5-cp310-cp310-macosx_10_9_x86_64.whl (404 kB)\n",
      "\u001b[2K     \u001b[90m━━━━━━━━━━━━━━━━━━━━━━━━━━━━━━━━━━━━━━━\u001b[0m \u001b[32m404.5/404.5 kB\u001b[0m \u001b[31m3.2 MB/s\u001b[0m eta \u001b[36m0:00:00\u001b[0m00:01\u001b[0m00:01\u001b[0m\n",
      "\u001b[?25hRequirement already satisfied: pooch<1.7,>=1.0 in /opt/anaconda3/envs/tfg_env/lib/python3.10/site-packages (from librosa) (1.4.0)\n",
      "Collecting audioread>=2.1.9\n",
      "  Downloading audioread-3.0.0.tar.gz (377 kB)\n",
      "\u001b[2K     \u001b[90m━━━━━━━━━━━━━━━━━━━━━━━━━━━━━━━━━━━━━━━\u001b[0m \u001b[32m377.0/377.0 kB\u001b[0m \u001b[31m2.1 MB/s\u001b[0m eta \u001b[36m0:00:00\u001b[0m00:01\u001b[0m00:01\u001b[0m\n",
      "\u001b[?25h  Preparing metadata (setup.py) ... \u001b[?25ldone\n",
      "\u001b[?25hRequirement already satisfied: scipy>=1.2.0 in /opt/anaconda3/envs/tfg_env/lib/python3.10/site-packages (from librosa) (1.10.0)\n",
      "Requirement already satisfied: joblib>=0.14 in /opt/anaconda3/envs/tfg_env/lib/python3.10/site-packages (from librosa) (1.1.1)\n",
      "Collecting msgpack>=1.0\n",
      "  Downloading msgpack-1.0.5-cp310-cp310-macosx_10_9_x86_64.whl (74 kB)\n",
      "\u001b[2K     \u001b[90m━━━━━━━━━━━━━━━━━━━━━━━━━━━━━━━━━━━━━━━━\u001b[0m \u001b[32m74.7/74.7 kB\u001b[0m \u001b[31m2.5 MB/s\u001b[0m eta \u001b[36m0:00:00\u001b[0m\n",
      "\u001b[?25hRequirement already satisfied: numpy!=1.22.0,!=1.22.1,!=1.22.2,>=1.20.3 in /opt/anaconda3/envs/tfg_env/lib/python3.10/site-packages (from librosa) (1.23.5)\n",
      "Collecting lazy-loader>=0.1\n",
      "  Downloading lazy_loader-0.2-py3-none-any.whl (8.6 kB)\n",
      "Collecting soundfile>=0.12.1\n",
      "  Downloading soundfile-0.12.1-py2.py3-none-macosx_10_9_x86_64.whl (1.2 MB)\n",
      "\u001b[2K     \u001b[90m━━━━━━━━━━━━━━━━━━━━━━━━━━━━━━━━━━━━━━━━\u001b[0m \u001b[32m1.2/1.2 MB\u001b[0m \u001b[31m3.1 MB/s\u001b[0m eta \u001b[36m0:00:00\u001b[0m00:01\u001b[0m00:01\u001b[0m\n",
      "\u001b[?25hRequirement already satisfied: decorator>=4.3.0 in /opt/anaconda3/envs/tfg_env/lib/python3.10/site-packages (from librosa) (5.1.1)\n",
      "Collecting llvmlite<0.41,>=0.40.0dev0\n",
      "  Downloading llvmlite-0.40.0-cp310-cp310-macosx_10_9_x86_64.whl (30.4 MB)\n",
      "\u001b[2K     \u001b[90m━━━━━━━━━━━━━━━━━━━━━━━━━━━━━━━━━━━━━━━━\u001b[0m \u001b[32m30.4/30.4 MB\u001b[0m \u001b[31m2.4 MB/s\u001b[0m eta \u001b[36m0:00:00\u001b[0m00:01\u001b[0m00:01\u001b[0m\n",
      "\u001b[?25hRequirement already satisfied: appdirs in /opt/anaconda3/envs/tfg_env/lib/python3.10/site-packages (from pooch<1.7,>=1.0->librosa) (1.4.4)\n",
      "Requirement already satisfied: requests in /opt/anaconda3/envs/tfg_env/lib/python3.10/site-packages (from pooch<1.7,>=1.0->librosa) (2.28.1)\n",
      "Requirement already satisfied: packaging in /opt/anaconda3/envs/tfg_env/lib/python3.10/site-packages (from pooch<1.7,>=1.0->librosa) (22.0)\n",
      "Requirement already satisfied: threadpoolctl>=2.0.0 in /opt/anaconda3/envs/tfg_env/lib/python3.10/site-packages (from scikit-learn>=0.20.0->librosa) (2.2.0)\n",
      "Requirement already satisfied: cffi>=1.0 in /opt/anaconda3/envs/tfg_env/lib/python3.10/site-packages (from soundfile>=0.12.1->librosa) (1.15.1)\n",
      "Requirement already satisfied: pycparser in /opt/anaconda3/envs/tfg_env/lib/python3.10/site-packages (from cffi>=1.0->soundfile>=0.12.1->librosa) (2.21)\n",
      "Requirement already satisfied: certifi>=2017.4.17 in /opt/anaconda3/envs/tfg_env/lib/python3.10/site-packages (from requests->pooch<1.7,>=1.0->librosa) (2022.12.7)\n",
      "Requirement already satisfied: urllib3<1.27,>=1.21.1 in /opt/anaconda3/envs/tfg_env/lib/python3.10/site-packages (from requests->pooch<1.7,>=1.0->librosa) (1.26.14)\n",
      "Requirement already satisfied: idna<4,>=2.5 in /opt/anaconda3/envs/tfg_env/lib/python3.10/site-packages (from requests->pooch<1.7,>=1.0->librosa) (3.4)\n",
      "Requirement already satisfied: charset-normalizer<3,>=2 in /opt/anaconda3/envs/tfg_env/lib/python3.10/site-packages (from requests->pooch<1.7,>=1.0->librosa) (2.0.4)\n",
      "Building wheels for collected packages: audioread\n",
      "  Building wheel for audioread (setup.py) ... \u001b[?25ldone\n",
      "\u001b[?25h  Created wheel for audioread: filename=audioread-3.0.0-py3-none-any.whl size=23702 sha256=c93ef589cff2749dcfd3504293fdced36df66531d240adb5d1473d13dbc7aa7c\n",
      "  Stored in directory: /Users/soufiane/Library/Caches/pip/wheels/3d/e0/4b/51b8aa4a0e2b6361c14943f7a7c2c7adb7b9cd419e0a1b720d\n",
      "Successfully built audioread\n",
      "Installing collected packages: msgpack, soxr, llvmlite, lazy-loader, audioread, soundfile, numba, librosa\n",
      "Successfully installed audioread-3.0.0 lazy-loader-0.2 librosa-0.10.0.post2 llvmlite-0.40.0 msgpack-1.0.5 numba-0.57.0 soundfile-0.12.1 soxr-0.3.5\n"
     ]
    }
   ],
   "source": [
    "!pip install librosa"
   ]
  },
  {
   "cell_type": "code",
   "execution_count": 45,
   "id": "5c694db7",
   "metadata": {},
   "outputs": [],
   "source": [
    "X_data = np.array(x_train).astype(np.float32)\n",
    "X_data_test = np.array(x_test).astype(np.float32)"
   ]
  },
  {
   "cell_type": "code",
   "execution_count": 46,
   "id": "894c4ed5",
   "metadata": {},
   "outputs": [
    {
     "data": {
      "text/plain": [
       "(640, 13, 50)"
      ]
     },
     "execution_count": 46,
     "metadata": {},
     "output_type": "execute_result"
    }
   ],
   "source": [
    "#define EI_CLASSIFIER_NN_INPUT_FRAME_SIZE        650\n",
    "#define EI_CLASSIFIER_RAW_SAMPLE_COUNT           16000\n",
    "#define EI_CLASSIFIER_RAW_SAMPLES_PER_FRAME      1\n",
    "#define EI_CLASSIFIER_DSP_INPUT_FRAME_SIZE       (EI_CLASSIFIER_RAW_SAMPLE_COUNT * EI_CLASSIFIER_RAW_SAMPLES_PER_FRAME)\n",
    "#define EI_CLASSIFIER_INPUT_WIDTH                0\n",
    "#define EI_CLASSIFIER_INPUT_HEIGHT               0\n",
    "#define EI_CLASSIFIER_INTERVAL_MS                0.0625\n",
    "#define EI_CLASSIFIER_LABEL_COUNT                3\n",
    "#define EI_CLASSIFIER_HAS_ANOMALY                0\n",
    "#define EI_CLASSIFIER_FREQUENCY                  16000\n",
    "#define EI_CLASSIFIER_USE_QUANTIZED_DSP_BLOCK    0\n",
    "\n",
    "import librosa\n",
    "import numpy as np\n",
    "\n",
    "# Assuming you have your audio samples stored in a NumPy array called 'audio_samples'\n",
    "sample_rate = 16000\n",
    "hop_length = int((len(X_data[0]) - window_size) / 49)  # Adjust hop length to achieve 50 columns\n",
    "\n",
    "# Extract MFCC features\n",
    "X_mfcc = librosa.feature.mfcc(y=X_data, sr=sample_rate, n_mfcc=13, hop_length=hop_length)\n",
    "X_mfcc_test = librosa.feature.mfcc(y=X_data_test, sr=sample_rate, n_mfcc=13, hop_length=hop_length)\n",
    "\n",
    "X_mfcc.shape"
   ]
  },
  {
   "cell_type": "code",
   "execution_count": 51,
   "id": "64749f8b",
   "metadata": {},
   "outputs": [
    {
     "data": {
      "image/png": "[encoded data removed]",
      "text/plain": [
       "<Figure size 1000x400 with 2 Axes>"
      ]
     },
     "metadata": {},
     "output_type": "display_data"
    }
   ],
   "source": [
    "import librosa.display\n",
    "\n",
    "# Plot MFCC result\n",
    "plt.figure(figsize=(10, 4))\n",
    "plt.imshow(X_mfcc[0])\n",
    "plt.colorbar(format='%+2.0f dB')\n",
    "plt.title('MFCC')\n",
    "plt.xlabel('Time')\n",
    "plt.ylabel('MFCC Coefficients')\n",
    "plt.tight_layout()\n",
    "plt.show()\n"
   ]
  },
  {
   "cell_type": "code",
   "execution_count": 34,
   "id": "2f38281f",
   "metadata": {},
   "outputs": [
    {
     "name": "stderr",
     "output_type": "stream",
     "text": [
      "2023-05-16 12:38:19.148617: I tensorflow/core/platform/cpu_feature_guard.cc:193] This TensorFlow binary is optimized with oneAPI Deep Neural Network Library (oneDNN) to use the following CPU instructions in performance-critical operations:  SSE4.1 SSE4.2\n",
      "To enable them in other operations, rebuild TensorFlow with the appropriate compiler flags.\n"
     ]
    }
   ],
   "source": [
    "from keras.utils import np_utils\n",
    "Y_train = np_utils.to_categorical(y_train, 4)\n",
    "Y_test = np_utils.to_categorical(y_test, 4)"
   ]
  },
  {
   "cell_type": "code",
   "execution_count": 48,
   "id": "6cfdb4b2",
   "metadata": {},
   "outputs": [],
   "source": [
    "from sklearn.preprocessing import MinMaxScaler\n",
    "scaler = MinMaxScaler()\n",
    "mfcc_normalized = scaler.fit_transform(X_mfcc.reshape(640,650))\n",
    "mfcc_normalized_test = scaler.fit_transform(X_mfcc_test.reshape(80,650))"
   ]
  },
  {
   "cell_type": "code",
   "execution_count": 53,
   "id": "effb2071",
   "metadata": {},
   "outputs": [
    {
     "name": "stdout",
     "output_type": "stream",
     "text": [
      "Want to send 416000 elements.\n",
      "Want to send 2560 elements.\n",
      "Want to send 52000 elements.\n",
      "Want to send 320 elements.\n"
     ]
    }
   ],
   "source": [
    "send_data(np.array(mfcc_normalized))\n",
    "send_data(Y_train)\n",
    "\n",
    "send_data(np.array(mfcc_normalized_test))\n",
    "send_data(Y_test)"
   ]
  },
  {
   "cell_type": "code",
   "execution_count": 111,
   "id": "f84849da",
   "metadata": {},
   "outputs": [
    {
     "name": "stdout",
     "output_type": "stream",
     "text": [
      "Want to send 2560000 elements.\n",
      "Want to send 640 elements.\n"
     ]
    },
    {
     "ename": "ConnectionResetError",
     "evalue": "[Errno 54] Connection reset by peer",
     "output_type": "error",
     "traceback": [
      "\u001b[0;31m---------------------------------------------------------------------------\u001b[0m",
      "\u001b[0;31mConnectionResetError\u001b[0m                      Traceback (most recent call last)",
      "Cell \u001b[0;32mIn[111], line 2\u001b[0m\n\u001b[1;32m      1\u001b[0m send_data(np\u001b[38;5;241m.\u001b[39marray(x_train[\u001b[38;5;241m160\u001b[39m:\u001b[38;5;241m320\u001b[39m]))\n\u001b[0;32m----> 2\u001b[0m \u001b[43msend_data\u001b[49m\u001b[43m(\u001b[49m\u001b[43mY_train\u001b[49m\u001b[43m[\u001b[49m\u001b[38;5;241;43m160\u001b[39;49m\u001b[43m:\u001b[49m\u001b[38;5;241;43m320\u001b[39;49m\u001b[43m]\u001b[49m\u001b[43m)\u001b[49m\n\u001b[1;32m      4\u001b[0m send_data(np\u001b[38;5;241m.\u001b[39marray(x_test[\u001b[38;5;241m20\u001b[39m:\u001b[38;5;241m40\u001b[39m]))\n\u001b[1;32m      5\u001b[0m send_data(Y_test[\u001b[38;5;241m20\u001b[39m:\u001b[38;5;241m40\u001b[39m])\n",
      "Cell \u001b[0;32mIn[19], line 16\u001b[0m, in \u001b[0;36msend_data\u001b[0;34m(data)\u001b[0m\n\u001b[1;32m     14\u001b[0m \u001b[38;5;28;01mwith\u001b[39;00m socket\u001b[38;5;241m.\u001b[39msocket(socket\u001b[38;5;241m.\u001b[39mAF_INET, socket\u001b[38;5;241m.\u001b[39mSOCK_STREAM) \u001b[38;5;28;01mas\u001b[39;00m s:\n\u001b[1;32m     15\u001b[0m     \u001b[38;5;28mprint\u001b[39m(\u001b[38;5;124mf\u001b[39m\u001b[38;5;124m\"\u001b[39m\u001b[38;5;124mWant to send \u001b[39m\u001b[38;5;132;01m{\u001b[39;00mnp\u001b[38;5;241m.\u001b[39mprod(data\u001b[38;5;241m.\u001b[39mshape)\u001b[38;5;132;01m}\u001b[39;00m\u001b[38;5;124m elements.\u001b[39m\u001b[38;5;124m\"\u001b[39m)\n\u001b[0;32m---> 16\u001b[0m     \u001b[43ms\u001b[49m\u001b[38;5;241;43m.\u001b[39;49m\u001b[43mconnect\u001b[49m\u001b[43m(\u001b[49m\u001b[43m(\u001b[49m\u001b[43mHOST\u001b[49m\u001b[43m,\u001b[49m\u001b[43m \u001b[49m\u001b[43mPORT\u001b[49m\u001b[43m)\u001b[49m\u001b[43m)\u001b[49m\n\u001b[1;32m     18\u001b[0m     \u001b[38;5;66;03m# data length descriptor as uint32\u001b[39;00m\n\u001b[1;32m     19\u001b[0m     length_descriptor \u001b[38;5;241m=\u001b[39m np\u001b[38;5;241m.\u001b[39muint32(np\u001b[38;5;241m.\u001b[39mprod(data\u001b[38;5;241m.\u001b[39mshape))\u001b[38;5;241m.\u001b[39mtobytes(order\u001b[38;5;241m=\u001b[39m\u001b[38;5;124m'\u001b[39m\u001b[38;5;124mC\u001b[39m\u001b[38;5;124m'\u001b[39m)\n",
      "\u001b[0;31mConnectionResetError\u001b[0m: [Errno 54] Connection reset by peer"
     ]
    }
   ],
   "source": [
    "send_data(np.array(x_train[160:320]))\n",
    "send_data(Y_train[160:320])\n",
    "\n",
    "#send_data(np.array(x_test[20:40]))\n",
    "#send_data(Y_test[20:40])"
   ]
  },
  {
   "cell_type": "code",
   "execution_count": 107,
   "id": "cc2bbfbb",
   "metadata": {},
   "outputs": [
    {
     "name": "stdout",
     "output_type": "stream",
     "text": [
      "Want to send 1280000 elements.\n",
      "Want to send 320 elements.\n"
     ]
    },
    {
     "ename": "ConnectionRefusedError",
     "evalue": "[Errno 61] Connection refused",
     "output_type": "error",
     "traceback": [
      "\u001b[0;31m---------------------------------------------------------------------------\u001b[0m",
      "\u001b[0;31mConnectionRefusedError\u001b[0m                    Traceback (most recent call last)",
      "Cell \u001b[0;32mIn[107], line 2\u001b[0m\n\u001b[1;32m      1\u001b[0m send_data(np\u001b[38;5;241m.\u001b[39marray(x_test))\n\u001b[0;32m----> 2\u001b[0m \u001b[43msend_data\u001b[49m\u001b[43m(\u001b[49m\u001b[43mY_test\u001b[49m\u001b[43m)\u001b[49m\n",
      "Cell \u001b[0;32mIn[19], line 16\u001b[0m, in \u001b[0;36msend_data\u001b[0;34m(data)\u001b[0m\n\u001b[1;32m     14\u001b[0m \u001b[38;5;28;01mwith\u001b[39;00m socket\u001b[38;5;241m.\u001b[39msocket(socket\u001b[38;5;241m.\u001b[39mAF_INET, socket\u001b[38;5;241m.\u001b[39mSOCK_STREAM) \u001b[38;5;28;01mas\u001b[39;00m s:\n\u001b[1;32m     15\u001b[0m     \u001b[38;5;28mprint\u001b[39m(\u001b[38;5;124mf\u001b[39m\u001b[38;5;124m\"\u001b[39m\u001b[38;5;124mWant to send \u001b[39m\u001b[38;5;132;01m{\u001b[39;00mnp\u001b[38;5;241m.\u001b[39mprod(data\u001b[38;5;241m.\u001b[39mshape)\u001b[38;5;132;01m}\u001b[39;00m\u001b[38;5;124m elements.\u001b[39m\u001b[38;5;124m\"\u001b[39m)\n\u001b[0;32m---> 16\u001b[0m     \u001b[43ms\u001b[49m\u001b[38;5;241;43m.\u001b[39;49m\u001b[43mconnect\u001b[49m\u001b[43m(\u001b[49m\u001b[43m(\u001b[49m\u001b[43mHOST\u001b[49m\u001b[43m,\u001b[49m\u001b[43m \u001b[49m\u001b[43mPORT\u001b[49m\u001b[43m)\u001b[49m\u001b[43m)\u001b[49m\n\u001b[1;32m     18\u001b[0m     \u001b[38;5;66;03m# data length descriptor as uint32\u001b[39;00m\n\u001b[1;32m     19\u001b[0m     length_descriptor \u001b[38;5;241m=\u001b[39m np\u001b[38;5;241m.\u001b[39muint32(np\u001b[38;5;241m.\u001b[39mprod(data\u001b[38;5;241m.\u001b[39mshape))\u001b[38;5;241m.\u001b[39mtobytes(order\u001b[38;5;241m=\u001b[39m\u001b[38;5;124m'\u001b[39m\u001b[38;5;124mC\u001b[39m\u001b[38;5;124m'\u001b[39m)\n",
      "\u001b[0;31mConnectionRefusedError\u001b[0m: [Errno 61] Connection refused"
     ]
    }
   ],
   "source": [
    "send_data(np.array(x_test))\n",
    "send_data(Y_test)"
   ]
  },
  {
   "cell_type": "markdown",
   "id": "68e1aa58",
   "metadata": {},
   "source": [
    "### TFG PLOTS"
   ]
  },
  {
   "cell_type": "code",
   "execution_count": 37,
   "id": "5b03008e",
   "metadata": {},
   "outputs": [
    {
     "data": {
      "text/plain": [
       "Text(0, 0.5, 'Loss')"
      ]
     },
     "execution_count": 37,
     "metadata": {},
     "output_type": "execute_result"
    },
    {
     "data": {
      "image/png": "[encoded data removed]",
      "text/plain": [
       "<Figure size 640x480 with 1 Axes>"
      ]
     },
     "metadata": {},
     "output_type": "display_data"
    }
   ],
   "source": [
    "# AUTOENCODER\n",
    "fig, ax = plt.subplots()\n",
    "\n",
    "our_loss = [0.658452,0.463278,0.398554,0.356071,0.328166,0.310177,0.298372,0.290079,0.283997,0.279468,0.275582,0.271791,0.271103,0.266661,0.264676,0.262768,0.261071,0.259504,0.258074,0.256837,0.255812,0.254769,0.253693,0.252694,0.251872,0.251012,0.251541,0.251077,0.247967,0.248817,0.245201,0.247213,0.242449,0.238401,0.236281,0.234650,0.247891,0.250135,0.238469,0.233709,0.236338,0.233541,0.230233,0.227570,0.230791,0.233384,0.229024,0.227237,0.229877,0.225964,0.224674,0.222146,0.221950,0.220903,0.220977,0.220672,0.220248,0.220475,0.219856,0.218917,0.220376,0.216947,0.217201,0.216465,0.218722,0.218020,0.229497,0.238925,0.235496,0.225140,0.222063,0.218541,0.216734,0.221995,0.223306,0.223659,0.217764,0.216366,0.215984,0.215400,0.215445,0.212864,0.218911,0.223125,0.215366,0.213087,0.211324,0.209193,0.209704,0.207275,0.207012,0.206182,0.206117,0.205580,0.206403,0.202918,0.202134,0.201306,0.202834,0.201144]\n",
    "our_val_loss = [1.483787,0.540341,0.452697,0.401911,0.367612,0.345362,0.331273,0.321644,0.314616,0.309433,0.305338,0.301506,0.297966,0.295824,0.293516,0.291550,0.289802,0.288267,0.286869,0.285577,0.284387,0.283329,0.282467,0.281611,0.280707,0.279962,0.279021,0.277571,0.277171,0.275239,0.275134,0.272874,0.273281,0.268194,0.266012,0.264551,0.262398,0.285688,0.271320,0.264600,0.266585,0.265181,0.267320,0.256208,0.254841,0.267719,0.258992,0.257555,0.256318,0.256001,0.252449,0.252110,0.250451,0.249313,0.248606,0.248489,0.248311,0.248408,0.247525,0.245896,0.247210,0.245909,0.244648,0.244449,0.243744,0.248756,0.246369,0.268834,0.270190,0.257043,0.254232,0.249166,0.246958,0.244439,0.253266,0.256455,0.250711,0.245444,0.244866,0.245656,0.241895,0.242576,0.241766,0.259127,0.243239,0.239946,0.237141,0.234863,0.234130,0.232474,0.231424,0.231101,0.231706,0.229823,0.232606,0.230560,0.229146,0.227148,0.227117,0.226695]\n",
    "keras_loss = [0.40225130319595337, 0.2999558746814728, 0.29179736971855164, 0.2863253653049469, 0.2812533378601074, 0.2886080741882324, 0.27167803049087524, 0.274922639131546, 0.3114383816719055, 0.2805415987968445, 0.2761501371860504, 0.25508326292037964, 0.30327653884887695, 0.2874334454536438, 0.26251301169395447, 0.28645074367523193, 0.26756158471107483, 0.26946964859962463, 0.24440783262252808, 0.2486732304096222, 0.2390187829732895, 0.23877224326133728, 0.2541505992412567, 0.26966798305511475, 0.2512010931968689, 0.24436353147029877, 0.24236921966075897, 0.23420701920986176, 0.2595103681087494, 0.23383961617946625, 0.24603021144866943, 0.23972710967063904, 0.2151055485010147, 0.2430897355079651, 0.2369249016046524, 0.23016519844532013, 0.23873014748096466, 0.2432563453912735, 0.2801090478897095, 0.24037311971187592, 0.2303181141614914, 0.2423226237297058, 0.2558373808860779, 0.22827056050300598, 0.2307075709104538, 0.23311643302440643, 0.2419494390487671, 0.23571963608264923, 0.22292494773864746, 0.22149880230426788, 0.21633248031139374, 0.21938572824001312, 0.22993743419647217, 0.21803627908229828, 0.2254209965467453, 0.2427695095539093, 0.24750705063343048, 0.24754641950130463, 0.22375047206878662, 0.22186128795146942, 0.23851706087589264, 0.2517802119255066, 0.2441249042749405, 0.254838228225708, 0.2698749303817749, 0.2672821581363678, 0.27863624691963196, 0.29876136779785156, 0.29616355895996094, 0.28323811292648315, 0.2736423909664154, 0.2632753551006317, 0.2518432140350342, 0.2528214156627655, 0.23882582783699036, 0.2805929481983185, 0.2616164982318878, 0.24895283579826355, 0.23728162050247192, 0.23815308511257172, 0.22839228808879852, 0.2444005310535431, 0.24807484447956085, 0.24134846031665802, 0.2521003186702728, 0.23921579122543335, 0.22775815427303314, 0.22709029912948608, 0.23975609242916107, 0.22775135934352875, 0.22572045028209686, 0.24047741293907166, 0.22129833698272705, 0.25989726185798645, 0.2916828989982605, 0.3022710680961609, 0.28527337312698364, 0.2792733311653137, 0.2498442679643631, 0.2562717795372009]\n",
    "keras_val_loss = [0.3464551568031311, 0.3192874789237976, 0.32587918639183044, 0.29859310388565063, 0.35078030824661255, 0.30690309405326843, 0.3157068192958832, 0.31718710064888, 0.30804458260536194, 0.2978901267051697, 0.3390752077102661, 0.27263879776000977, 0.3032858967781067, 0.2817642092704773, 0.33047381043434143, 0.28613340854644775, 0.2832689583301544, 0.300048291683197, 0.28791508078575134, 0.25575581192970276, 0.25339069962501526, 0.2653793692588806, 0.2947620451450348, 0.27716460824012756, 0.2935549318790436, 0.25044575333595276, 0.26666250824928284, 0.26108577847480774, 0.26094910502433777, 0.2795538008213043, 0.26682114601135254, 0.2467355579137802, 0.25168657302856445, 0.23646114766597748, 0.2799862027168274, 0.24702578783035278, 0.25484153628349304, 0.3338126242160797, 0.27018555998802185, 0.2761368751525879, 0.29290932416915894, 0.29268011450767517, 0.25778281688690186, 0.2416796088218689, 0.2627161741256714, 0.25945597887039185, 0.2579360604286194, 0.24717946350574493, 0.2349974364042282, 0.2787701189517975, 0.22933636605739594, 0.2863095700740814, 0.24912695586681366, 0.24470284581184387, 0.24525365233421326, 0.25498536229133606, 0.36799678206443787, 0.24217014014720917, 0.25866660475730896, 0.25978556275367737, 0.27882760763168335, 0.2834169566631317, 0.25416648387908936, 0.2702990472316742, 0.27870649099349976, 0.2646319568157196, 0.34263813495635986, 0.2867574989795685, 0.31425297260284424, 0.3021867573261261, 0.3245985209941864, 0.27079254388809204, 0.26529714465141296, 0.2788192629814148, 0.2602596580982208, 0.28510743379592896, 0.26775211095809937, 0.2735534608364105, 0.2587037682533264, 0.27222970128059387, 0.2375107705593109, 0.2511082589626312, 0.2620972692966461, 0.29079002141952515, 0.2628406286239624, 0.2541899085044861, 0.23493926227092743, 0.24532471597194672, 0.25666117668151855, 0.25456690788269043, 0.25735726952552795, 0.25503817200660706, 0.2615513801574707, 0.3005300462245941, 0.3256596326828003, 0.4149594008922577, 0.31212231516838074, 0.2748928368091583, 0.2710212171077728, 0.31691667437553406]\n",
    "\n",
    "# plot the data\n",
    "ax.plot(our_loss, label='Training Loss (our)', linestyle=\"dashed\")\n",
    "ax.plot(our_val_loss, label='Validation Loss (our)')\n",
    "ax.plot(keras_loss, label='Training Loss (Keras)',linestyle=\"dotted\")\n",
    "ax.plot(keras_val_loss, label='Training Loss (Keras)',linestyle=\"dashed\")\n",
    "# add the legend\n",
    "ax.legend()\n",
    "\n",
    "# set the axis labels\n",
    "ax.set_xlabel('Epochs')\n",
    "ax.set_ylabel('Loss')"
   ]
  },
  {
   "cell_type": "code",
   "execution_count": 3,
   "id": "1cd72373",
   "metadata": {},
   "outputs": [
    {
     "data": {
      "text/plain": [
       "Text(0, 0.5, 'Loss')"
      ]
     },
     "execution_count": 3,
     "metadata": {},
     "output_type": "execute_result"
    },
    {
     "data": {
      "image/png": "[encoded data removed]",
      "text/plain": [
       "<Figure size 640x480 with 1 Axes>"
      ]
     },
     "metadata": {},
     "output_type": "display_data"
    }
   ],
   "source": [
    "cnn_loss = [0.560942,0.203308,0.171505,0.145375,0.127731,0.115324,0.115229,0.100846,0.103983,0.096259,0.107010,0.097250,0.083607,0.083666,0.086973,0.076393,0.077556,0.078663,0.076998,0.075172,0.068235,0.066984,0.065358,0.074433,0.069517,0.063426,0.060610,0.058569,0.056841,0.060664,0.058285,0.054372,0.056360,0.054412,0.053042,0.059652,0.055303,0.052425,0.054429,0.053337,0.050869,0.053435,0.047549,0.043689,0.044193,0.049996,0.046473,0.041482,0.039951,0.038439,0.039240,0.038330,0.037793,0.036544,0.036770,0.035654,0.034570,0.034514,0.033683,0.034449,0.034659,0.031552,0.033146,0.032138,0.031815,0.033538,0.032247,0.033626,0.031582,0.032129,0.028221,0.027698,0.026924,0.028609,0.032028,0.028988,0.030981,0.032806,0.030893,0.029545,0.027077,0.029130,0.026807,0.026051,0.027483,0.030431,0.027511,0.024890,0.028035,0.030056,0.024706,0.025181,0.024864,0.022727,0.030795,0.030366,0.024090,0.025034,0.027748,0.028136,]\n",
    "cnn_train_acc = [0.861367,0.943867,0.950967,0.958067,0.961383,0.965200,0.965767,0.969367,0.968350,0.970967,0.966400,0.970050,0.974550,0.973783,0.973100,0.976300,0.976250,0.975233,0.976867,0.976983,0.979167,0.979550,0.979817,0.977400,0.978750,0.980650,0.981450,0.982100,0.982867,0.981467,0.981833,0.983150,0.982467,0.983833,0.984083,0.981617,0.983133,0.984583,0.983300,0.983400,0.983950,0.983333,0.985533,0.986733,0.986817,0.984383,0.985750,0.987517,0.987900,0.988683,0.988267,0.988467,0.988883,0.989817,0.988883,0.989567,0.990167,0.989867,0.990083,0.989667,0.990050,0.990917,0.990500,0.991033,0.991317,0.989900,0.990633,0.990067,0.990317,0.990467,0.992267,0.992483,0.992500,0.992117,0.990633,0.991667,0.990817,0.990533,0.990483,0.990950,0.992183,0.991283,0.992333,0.992650,0.991900,0.990700,0.991933,0.992500,0.991683,0.990383,0.992950,0.992950,0.992850,0.993917,0.990250,0.990883,0.993467,0.993183,0.991917,0.991633]\n",
    "cnn_valid_loss = [0.249087,0.161238,0.163611,0.122539,0.107188,0.115086,0.104239,0.101666,0.096495,0.110017,0.105761,0.095396,0.089581,0.088016,0.090101,0.085189,0.091106,0.088233,0.097248,0.086152,0.084508,0.075919,0.088791,0.085399,0.078951,0.080585,0.079871,0.074653,0.078538,0.100040,0.073120,0.073926,0.080815,0.075142,0.077218,0.085608,0.075683,0.081892,0.074690,0.079567,0.078028,0.078655,0.072065,0.078652,0.078301,0.080887,0.073627,0.069712,0.069798,0.073512,0.069657,0.074973,0.069274,0.072052,0.068210,0.072103,0.071211,0.072899,0.070612,0.073650,0.071623,0.072423,0.070153,0.070170,0.073584,0.075096,0.075081,0.076304,0.072092,0.073804,0.072086,0.070151,0.072976,0.077453,0.075813,0.076625,0.087169,0.080329,0.076205,0.076112,0.074944,0.076682,0.071597,0.078397,0.077753,0.077030,0.078711,0.075884,0.071689,0.070147,0.071673,0.072026,0.072793,0.072930,0.079448,0.075725,0.076468,0.077805,0.077542,0.082485,]\n",
    "cnn_valid_acc = [0.936900,0.952500,0.953100,0.961800,0.966500,0.964500,0.967200,0.967000,0.970000,0.964300,0.965600,0.969100,0.969800,0.970700,0.971100,0.971900,0.970800,0.972100,0.967300,0.973400,0.971700,0.973100,0.971000,0.972100,0.974000,0.974000,0.973500,0.974900,0.974200,0.968100,0.976100,0.976500,0.974400,0.974400,0.975300,0.971400,0.974800,0.973200,0.974800,0.972500,0.973900,0.974000,0.976000,0.973500,0.974800,0.972800,0.976500,0.977000,0.976600,0.975700,0.976200,0.975200,0.977000,0.977000,0.977700,0.976700,0.976900,0.976100,0.977500,0.976100,0.976900,0.975600,0.977600,0.978000,0.976100,0.976600,0.976700,0.977300,0.977200,0.976000,0.977100,0.977300,0.976400,0.975700,0.975500,0.975300,0.971900,0.973300,0.976000,0.976500,0.977300,0.976900,0.978800,0.975900,0.975800,0.976300,0.976700,0.977300,0.977400,0.978100,0.977800,0.978900,0.977200,0.977300,0.974500,0.976600,0.976600,0.975800,0.976400,0.975300,]\n",
    "\n",
    "# create the figure and axis objects\n",
    "fig, ax = plt.subplots()\n",
    "\n",
    "# plot the data\n",
    "ax.plot(cnn_loss, label='Training Loss (our)', linestyle=\"dashed\")\n",
    "ax.plot(cnn_valid_loss, label='Validation Loss (our)')\n",
    "ax.plot(cnn_train_acc, label='Training Acc (Keras)',linestyle=\"dotted\")\n",
    "ax.plot(cnn_valid_acc, label='Valid Acc (Keras)',linestyle=\"dashed\")\n",
    "# add the legend\n",
    "ax.legend()\n",
    "\n",
    "# set the axis labels\n",
    "ax.set_xlabel('Epochs')\n",
    "ax.set_ylabel('Loss')"
   ]
  },
  {
   "cell_type": "code",
   "execution_count": 2,
   "id": "7a60dfd3",
   "metadata": {},
   "outputs": [
    {
     "name": "stderr",
     "output_type": "stream",
     "text": [
      "2023-05-29 12:33:11.103530: I tensorflow/core/platform/cpu_feature_guard.cc:193] This TensorFlow binary is optimized with oneAPI Deep Neural Network Library (oneDNN) to use the following CPU instructions in performance-critical operations:  SSE4.1 SSE4.2\n",
      "To enable them in other operations, rebuild TensorFlow with the appropriate compiler flags.\n"
     ]
    },
    {
     "name": "stdout",
     "output_type": "stream",
     "text": [
      "Training Images Shape: (270, 32, 32, 3)\n",
      "Training Labels Shape: (270, 10)\n",
      "Testing Images Shape: (30, 32, 32, 3)\n",
      "Testing Labels Shape: (30, 10)\n"
     ]
    }
   ],
   "source": [
    "import tensorflow as tf\n",
    "from tensorflow.keras.datasets import cifar10\n",
    "from tensorflow.keras.datasets import fashion_mnist\n",
    "from sklearn.model_selection import train_test_split\n",
    "from keras.utils import np_utils\n",
    "\n",
    "# Define the subset size\n",
    "subset_size = 300\n",
    "\n",
    "# Load the CIFAR-10 dataset\n",
    "(train_images, train_labels), (_, _) = cifar10.load_data()\n",
    "\n",
    "# Create a subset of the dataset\n",
    "subset_images = train_images[:subset_size]\n",
    "subset_labels = train_labels[:subset_size]\n",
    "\n",
    "# Seed value\n",
    "# Apparently you may use different seed values at each stage\n",
    "seed_value= 0\n",
    "\n",
    "# 1. Set the `PYTHONHASHSEED` environment variable at a fixed value\n",
    "import os\n",
    "os.environ['PYTHONHASHSEED']=str(seed_value)\n",
    "\n",
    "# 2. Set the `python` built-in pseudo-random generator at a fixed value\n",
    "import random\n",
    "random.seed(seed_value)\n",
    "\n",
    "# 3. Set the `numpy` pseudo-random generator at a fixed value\n",
    "import numpy as np\n",
    "np.random.seed(seed_value)\n",
    "tf.random.set_seed(seed_value)\n",
    "# Split the subset into training and testing sets\n",
    "train_images, test_images, train_labels, test_labels = train_test_split(\n",
    "    subset_images, subset_labels, test_size=0.1, random_state=42)\n",
    "\n",
    "# Perform desired operations on the subset of images\n",
    "# ...\n",
    "\n",
    "# Preprocess the data\n",
    "X_train = train_images / 255.0\n",
    "X_test = test_images / 255.0\n",
    "Y_train = np_utils.to_categorical(train_labels, 10)\n",
    "Y_test = np_utils.to_categorical(test_labels, 10)\n",
    "\n",
    "# Example: Print the shape of the training and testing sets\n",
    "print(\"Training Images Shape:\", X_train.shape)\n",
    "print(\"Training Labels Shape:\", Y_train.shape)\n",
    "print(\"Testing Images Shape:\", X_test.shape)\n",
    "print(\"Testing Labels Shape:\", Y_test.shape)"
   ]
  },
  {
   "cell_type": "code",
   "execution_count": 11,
   "id": "c2407bb6",
   "metadata": {},
   "outputs": [
    {
     "name": "stdout",
     "output_type": "stream",
     "text": [
      "Want to send 829440 elements.\n",
      "Want to send 2700 elements.\n",
      "Want to send 92160 elements.\n",
      "Want to send 300 elements.\n"
     ]
    }
   ],
   "source": [
    "send_data(X_train)\n",
    "send_data(Y_train)\n",
    "send_data(X_test)\n",
    "send_data(Y_test)"
   ]
  },
  {
   "cell_type": "code",
   "execution_count": 35,
   "id": "13178cd2",
   "metadata": {},
   "outputs": [
    {
     "data": {
      "text/plain": [
       "array([[ 0.60834811, -0.16933849],\n",
       "       [ 0.79325322,  1.86532301]])"
      ]
     },
     "execution_count": 35,
     "metadata": {},
     "output_type": "execute_result"
    }
   ],
   "source": [
    "import random\n",
    "import numpy as np\n",
    "\n",
    "def get_weights(inp, out):\n",
    "    np.random.seed(42)\n",
    "    random.seed(42)\n",
    "    return np.random.randn(inp, out) * np.sqrt(6.0 / (inp + out))\n",
    "\n",
    "get_weights(2,2)"
   ]
  },
  {
   "cell_type": "code",
   "execution_count": 36,
   "id": "7d0dd05f",
   "metadata": {},
   "outputs": [
    {
     "data": {
      "text/plain": [
       "array([[ 0.60834811, -0.16933849],\n",
       "       [ 0.79325322,  1.86532301]])"
      ]
     },
     "execution_count": 36,
     "metadata": {},
     "output_type": "execute_result"
    }
   ],
   "source": [
    "get_weights(2,2)"
   ]
  },
  {
   "cell_type": "code",
   "execution_count": 37,
   "id": "40fd8a4b",
   "metadata": {},
   "outputs": [
    {
     "data": {
      "text/plain": [
       "array([[ 0.60834811, -0.16933849],\n",
       "       [ 0.79325322,  1.86532301]])"
      ]
     },
     "execution_count": 37,
     "metadata": {},
     "output_type": "execute_result"
    }
   ],
   "source": [
    "get_weights(2,2)"
   ]
  },
  {
   "cell_type": "code",
   "execution_count": 4,
   "id": "37e60527",
   "metadata": {},
   "outputs": [
    {
     "name": "stdout",
     "output_type": "stream",
     "text": [
      "Shape before one-hot encoding:  (60000,)\n"
     ]
    },
    {
     "data": {
      "text/plain": [
       "((60000, 28, 28), (60000, 10), (10000, 28, 28), (10000, 10))"
      ]
     },
     "execution_count": 4,
     "metadata": {},
     "output_type": "execute_result"
    }
   ],
   "source": [
    "from keras.datasets import mnist\n",
    "import matplotlib.pyplot as plt\n",
    "from keras.utils import np_utils\n",
    "(X_train, y_train), (X_test, y_test) = mnist.load_data()\n",
    "\n",
    "n_classes = 10\n",
    "print(\"Shape before one-hot encoding: \", y_train.shape)\n",
    "Y_train = np_utils.to_categorical(y_train, n_classes)\n",
    "Y_test = np_utils.to_categorical(y_test, n_classes)\n",
    "\n",
    "X_train.shape, Y_train.shape, X_test.shape, Y_test.shape\n"
   ]
  },
  {
   "cell_type": "code",
   "execution_count": 20,
   "id": "10accc58",
   "metadata": {},
   "outputs": [
    {
     "name": "stdout",
     "output_type": "stream",
     "text": [
      "Want to send 7840000 elements.\n",
      "Want to send 100000 elements.\n",
      "Want to send 1568000 elements.\n",
      "Want to send 20000 elements.\n"
     ]
    }
   ],
   "source": [
    "send_data(X_train[:10000])\n",
    "send_data(Y_train[:10000])\n",
    "send_data(X_test[:2000])\n",
    "send_data(Y_test[:2000])"
   ]
  },
  {
   "cell_type": "code",
   "execution_count": 25,
   "id": "efdda19e",
   "metadata": {},
   "outputs": [],
   "source": [
    "import random\n",
    "\n",
    "def initialize_device_weights(bias_dimm, w_dimm):\n",
    "    np.random.seed(42)\n",
    "    random.seed(42)\n",
    "    bias = np.zeros(bias_dimm)\n",
    "    weights = np.random.randn(w_dimm[0], w_dimm[1]) * np.sqrt(6.0 / (w_dimm[0] + w_dimm[1]))\n",
    "    return weights,bias\n",
    "def initialize_device_weights_cnn(kh, kw, c, kc):\n",
    "    np.random.seed(42)\n",
    "    random.seed(42)\n",
    "    bias = np.zeros((1,kc))\n",
    "    in_size = kh * kw * c\n",
    "    out_size = kh * kw * kc\n",
    "    weights = np.random.randn(kh, kw, c, kc) * np.sqrt(6.0 / (in_size + out_size))\n",
    "    return weights,bias\n",
    "    "
   ]
  },
  {
   "cell_type": "code",
   "execution_count": 48,
   "id": "2344f4ad",
   "metadata": {},
   "outputs": [
    {
     "data": {
      "text/plain": [
       "[(array([[[[ 0.10035141, -0.02793361,  0.13085284,  0.3076985 ,\n",
       "            -0.04730613],\n",
       "           [-0.04730281,  0.31904917,  0.15504523, -0.09484815,\n",
       "             0.10961368]],\n",
       "  \n",
       "          [[-0.09362451, -0.09409162,  0.04888376, -0.38654098,\n",
       "            -0.34848603],\n",
       "           [-0.11359924, -0.20462279,  0.06348755, -0.18344857,\n",
       "            -0.28532844]],\n",
       "  \n",
       "          [[ 0.29610577, -0.0456137 ,  0.01364276, -0.2878426 ,\n",
       "            -0.10998192],\n",
       "           [ 0.02240975, -0.23253582,  0.07590246, -0.12134734,\n",
       "            -0.05893104]],\n",
       "  \n",
       "          [[-0.12156309,  0.3742167 , -0.00272685, -0.21368988,\n",
       "             0.16617917],\n",
       "           [-0.24664766,  0.04219682, -0.39591315, -0.2683341 ,\n",
       "             0.03977198]],\n",
       "  \n",
       "          [[ 0.14919278,  0.03462162, -0.02336448, -0.06083213,\n",
       "            -0.29870655],\n",
       "           [-0.14543049, -0.09306309,  0.21357094,  0.06942138,\n",
       "            -0.3561879 ]],\n",
       "  \n",
       "          [[ 0.06547485, -0.07779837, -0.1367589 ,  0.12357727,\n",
       "             0.20829336],\n",
       "           [ 0.188147  , -0.16954754, -0.06247033,  0.06692532,\n",
       "             0.19708988]],\n",
       "  \n",
       "          [[-0.09680782, -0.03750878, -0.22351342, -0.24167023,\n",
       "             0.16415501],\n",
       "           [ 0.27400186, -0.01454824,  0.20274426,  0.07306151,\n",
       "            -0.13033387]]],\n",
       "  \n",
       "  \n",
       "         [[[ 0.07301294,  0.31073031, -0.00723795,  0.31610575,\n",
       "            -0.52926844],\n",
       "           [ 0.16604938,  0.01758616, -0.06040861,  0.01853848,\n",
       "            -0.40154956]],\n",
       "  \n",
       "          [[-0.04438042,  0.07214763,  0.29857969, -0.1047064 ,\n",
       "            -0.16334037],\n",
       "           [-0.10137023,  0.18493916,  0.06641775, -0.10702772,\n",
       "             0.10369568]],\n",
       "  \n",
       "          [[ 0.01961263,  0.19569584, -0.14183614, -0.06619775,\n",
       "            -0.07921781],\n",
       "           [-0.29567467,  0.05982533,  0.05274113,  0.00103307,\n",
       "            -0.04739376]],\n",
       "  \n",
       "          [[-0.28594807, -0.08498319, -0.06923879, -0.16208448,\n",
       "            -0.03258463],\n",
       "           [ 0.0816306 ,  0.3810671 ,  0.03527004,  0.05203304,\n",
       "            -0.01504035]],\n",
       "  \n",
       "          [[-0.38765033, -0.00535661,  0.01216834,  0.49765006,\n",
       "            -0.03886278],\n",
       "           [ 0.06092176, -0.00701284, -0.23610862,  0.23088507,\n",
       "             0.15191341]],\n",
       "  \n",
       "          [[ 0.15981259, -0.18372401,  0.28340725, -0.28321668,\n",
       "             0.11856304],\n",
       "           [ 0.44253886, -0.20011856, -0.11440942,  0.02013262,\n",
       "            -0.10171744]],\n",
       "  \n",
       "          [[-0.31328132,  0.01385181, -0.21461776,  0.09568012,\n",
       "            -0.18575175],\n",
       "           [ 0.31313404, -0.15824106, -0.06506625,  0.1643553 ,\n",
       "            -0.24867214]]],\n",
       "  \n",
       "  \n",
       "         [[[ 0.04595385,  0.26408272, -0.32476066,  0.03730167,\n",
       "             0.05250425],\n",
       "           [ 0.15795207, -0.24990178, -0.26677252,  0.10544812,\n",
       "             0.05999996]],\n",
       "  \n",
       "          [[ 0.0506072 ,  0.06999311, -0.13738574,  0.04692233,\n",
       "             0.05920958],\n",
       "           [-0.14432078,  0.37694337,  0.09572871, -0.24067965,\n",
       "             0.13264386]],\n",
       "  \n",
       "          [[-0.19691543,  0.1590151 ,  0.23407165, -0.16580287,\n",
       "             0.19463137],\n",
       "           [ 0.08339434,  0.16608123,  0.38321005, -0.04957589,\n",
       "            -0.1522777 ]],\n",
       "  \n",
       "          [[-0.17970905, -0.16481857, -0.0155769 ,  0.06892311,\n",
       "             0.05589998],\n",
       "           [ 0.16711625,  0.00262678,  0.29365823, -0.05346875,\n",
       "             0.54955716]],\n",
       "  \n",
       "          [[ 0.12640389, -0.17317198, -0.21635296,  0.09747415,\n",
       "            -0.0451463 ],\n",
       "           [ 0.14424988,  0.09560844, -0.01471366, -0.17107817,\n",
       "            -0.30604536]],\n",
       "  \n",
       "          [[-0.09020964,  0.17301868,  0.04325347, -0.25167724,\n",
       "             0.03498783],\n",
       "           [ 0.07784587, -0.17856617,  0.03105716,  0.01175994,\n",
       "            -0.23091487]],\n",
       "  \n",
       "          [[ 0.07228396,  0.11329558,  0.21880939,  0.21290016,\n",
       "            -0.27833124],\n",
       "           [-0.18946927,  0.10405284,  0.10380044,  0.10405535,\n",
       "             0.7783693 ]]]]),\n",
       "  array([[0., 0., 0., 0., 0.]]))]"
      ]
     },
     "execution_count": 48,
     "metadata": {},
     "output_type": "execute_result"
    }
   ],
   "source": [
    "devices = [\n",
    "    [initialize_device_weights_cnn(3,7,2,5)], \n",
    "    [initialize_device_weights_cnn(3,7,2,5)], \n",
    "    [initialize_device_weights_cnn(3,7,2,5)]]\n",
    "\n",
    "devices[0]"
   ]
  },
  {
   "cell_type": "code",
   "execution_count": 49,
   "id": "ee08e308",
   "metadata": {},
   "outputs": [],
   "source": [
    "num_layers = 1\n",
    "list_weights = []\n",
    "for i in range(0, num_layers):\n",
    "    weights, bias = devices[0][i]\n",
    "    weights = np.zeros_like(weights)\n",
    "    bias = np.zeros_like(bias)\n",
    "    for k,device in enumerate(devices):\n",
    "        weights += device[i][0]\n",
    "        bias += device[i][1]\n",
    "\n",
    "    list_weights.append((weights,bias))\n",
    "\n",
    "for i,(weight,bias) in enumerate(list_weights):\n",
    "    list_weights[i] = (weight / len(devices), bias / len(devices))\n"
   ]
  },
  {
   "cell_type": "code",
   "execution_count": 60,
   "id": "8a7ca7ec",
   "metadata": {},
   "outputs": [
    {
     "name": "stdout",
     "output_type": "stream",
     "text": [
      "{3: 111, 8: 104, 7: 142, 4: 129, 6: 110, 9: 121, 0: 117, 5: 104, 1: 143, 2: 119}\n"
     ]
    },
    {
     "data": {
      "text/plain": [
       "((1200, 28, 28), (1200, 10), (10000, 10), (10000, 28, 28))"
      ]
     },
     "execution_count": 60,
     "metadata": {},
     "output_type": "execute_result"
    }
   ],
   "source": [
    "import numpy as np\n",
    "from sklearn.model_selection import train_test_split\n",
    "from keras.datasets import cifar10\n",
    "from keras.datasets import mnist\n",
    "from keras.datasets import fashion_mnist\n",
    "from keras.utils import np_utils\n",
    "\n",
    "# Load the Fashion MNIST dataset\n",
    "(X_train, y_train), (X_test, y_test) = mnist.load_data()\n",
    "\n",
    "# Combine the training and testing data\n",
    "X = np.concatenate([X_train, X_test], axis=0)[:1200]\n",
    "y = np.concatenate([y_train, y_test], axis=0)[:1200]\n",
    "\n",
    "# Shuffle the data randomly while maintaining the correspondence between X and y\n",
    "random_indices = np.random.permutation(len(X))\n",
    "X_shuffled = X[random_indices]\n",
    "y_shuffled = y[random_indices]\n",
    "\n",
    "# Calculate the number of samples per device\n",
    "num_samples = len(X_shuffled)\n",
    "samples_per_device = num_samples // 3\n",
    "\n",
    "# Distribute the shuffled data to three devices\n",
    "device1_X = X_shuffled[:samples_per_device]\n",
    "device1_y = y_shuffled[:samples_per_device]\n",
    "\n",
    "device2_X = X_shuffled[samples_per_device:2 * samples_per_device]\n",
    "device2_y = y_shuffled[samples_per_device:2 * samples_per_device]\n",
    "\n",
    "device3_X = X_shuffled[2 * samples_per_device:]\n",
    "device3_y = y_shuffled[2 * samples_per_device:]\n",
    "\n",
    "X_train = np.concatenate([device1_X, device2_X, device3_X],axis=0)\n",
    "y_train = np.concatenate([device1_y, device2_y, device3_y],axis=0)\n",
    "\n",
    "classes = {}\n",
    "for t in y_train.reshape(-1):\n",
    "    if t in classes:\n",
    "        classes[t] += 1\n",
    "    else:\n",
    "        classes[t] = 1\n",
    "\n",
    "print(classes)\n",
    "\n",
    "Y_train = np_utils.to_categorical(y_train, 10)\n",
    "Y_test = np_utils.to_categorical(y_test, 10)\n",
    "\n",
    "\n",
    "#X_train = (X_train - 127) / 255\n",
    "#X_test = (X_test - 127) / 255\n",
    "X_train.shape, Y_train.shape, Y_test.shape, X_test.shape"
   ]
  },
  {
   "cell_type": "code",
   "execution_count": 64,
   "id": "6166ace5",
   "metadata": {},
   "outputs": [
    {
     "name": "stdout",
     "output_type": "stream",
     "text": [
      "Want to send 39200 elements.\n",
      "Want to send 500 elements.\n",
      "Want to send 39200 elements.\n",
      "Want to send 500 elements.\n"
     ]
    }
   ],
   "source": [
    "send_data(X_train[:1000])\n",
    "send_data(Y_train[:1000])\n",
    "send_data(X_test[:50])\n",
    "send_data(Y_test[:50])"
   ]
  },
  {
   "cell_type": "code",
   "execution_count": null,
   "id": "efd62421",
   "metadata": {},
   "outputs": [],
   "source": []
  }
 ],
 "metadata": {
  "kernelspec": {
   "display_name": "tfg_env",
   "language": "python",
   "name": "tfg_env"
  },
  "language_info": {
   "codemirror_mode": {
    "name": "ipython",
    "version": 3
   },
   "file_extension": ".py",
   "mimetype": "text/x-python",
   "name": "python",
   "nbconvert_exporter": "python",
   "pygments_lexer": "ipython3",
   "version": "3.10.9"
  }
 },
 "nbformat": 4,
 "nbformat_minor": 5
}
