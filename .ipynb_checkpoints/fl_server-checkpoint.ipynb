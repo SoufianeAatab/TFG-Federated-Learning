{
 "cells": [
  {
   "cell_type": "code",
   "execution_count": 107,
   "id": "d3b53253",
   "metadata": {},
   "outputs": [],
   "source": [
    "import serial\n",
    "import serial.tools.list_ports\n",
    "import struct\n",
    "import math\n",
    "import numpy as np\n",
    "import matplotlib.pyplot as plt\n",
    "import time"
   ]
  },
  {
   "cell_type": "code",
   "execution_count": 108,
   "id": "05b81aa6",
   "metadata": {},
   "outputs": [],
   "source": [
    "def read_number(msg):\n",
    "    while True:\n",
    "        try:\n",
    "            #return 2;\n",
    "            return int(input(msg))\n",
    "        except: print(\"ERROR: Not a number\")\n",
    "\n",
    "def read_port(msg):\n",
    "    while True:\n",
    "        try:\n",
    "            port = input(msg)\n",
    "            #port = \"COM8\";\n",
    "            return serial.Serial(port, 9600)\n",
    "        except: print(f\"ERROR: Wrong port connection ({port})\")\n",
    "            \n",
    "def getDevices():\n",
    "    #num_devices = read_number(\"Number of devices: \")\n",
    "    # num_devices = 2\n",
    "\n",
    "    available_ports = serial.tools.list_ports.comports()\n",
    "\n",
    "    print(\"Available ports:\")\n",
    "    for available_port in available_ports: print(available_port)\n",
    "    return serial.Serial(\"/dev/cu.usbmodem101\", 9600)\n"
   ]
  },
  {
   "cell_type": "code",
   "execution_count": 109,
   "id": "51bf6574",
   "metadata": {},
   "outputs": [
    {
     "name": "stdout",
     "output_type": "stream",
     "text": [
      "Available ports:\n",
      "/dev/cu.wlan-debug - n/a\n",
      "/dev/cu.usbmodem101 - Envie M7\n"
     ]
    }
   ],
   "source": [
    "devices = getDevices()\n",
    "arduino = devices"
   ]
  },
  {
   "cell_type": "code",
   "execution_count": 110,
   "id": "69fa0edb",
   "metadata": {},
   "outputs": [
    {
     "data": {
      "text/plain": [
       "<matplotlib.collections.PathCollection at 0x1130b9810>"
      ]
     },
     "execution_count": 110,
     "metadata": {},
     "output_type": "execute_result"
    },
    {
     "data": {
      "image/png": "[encoded data removed]",
      "text/plain": [
       "<Figure size 432x288 with 1 Axes>"
      ]
     },
     "metadata": {
      "needs_background": "light"
     },
     "output_type": "display_data"
    }
   ],
   "source": [
    "X = np.random.uniform(0.0,1.0,(100,))\n",
    "y = np.sin(2*X * math.pi)\n",
    "\n",
    "plt.scatter(X, y)"
   ]
  },
  {
   "cell_type": "code",
   "execution_count": null,
   "id": "e6566a3b",
   "metadata": {},
   "outputs": [],
   "source": [
    "loss = []\n",
    "for _ in range(1):\n",
    "    error = 0.0\n",
    "    for i in range(100):\n",
    "        arduino.write(b\"t\")\n",
    "        arduino.write(struct.pack('f', X[i]))\n",
    "        arduino.write(struct.pack('f', y[i]))\n",
    "        time.sleep(0.1)\n",
    "        n_error = arduino.read(4)\n",
    "        [float_num] = struct.unpack('f', n_error)\n",
    "        error += float_num\n",
    "    print(f\"{error/100.0}\")\n",
    "    loss.append(error / 100.0)\n"
   ]
  },
  {
   "cell_type": "code",
   "execution_count": 58,
   "id": "91656255",
   "metadata": {},
   "outputs": [
    {
     "data": {
      "text/plain": [
       "4"
      ]
     },
     "execution_count": 58,
     "metadata": {},
     "output_type": "execute_result"
    }
   ],
   "source": [
    "plt.plot(loss)"
   ]
  },
  {
   "cell_type": "code",
   "execution_count": null,
   "id": "117f5546",
   "metadata": {},
   "outputs": [],
   "source": []
  }
 ],
 "metadata": {
  "kernelspec": {
   "display_name": "tfg_env",
   "language": "python",
   "name": "tfg_env"
  },
  "language_info": {
   "codemirror_mode": {
    "name": "ipython",
    "version": 3
   },
   "file_extension": ".py",
   "mimetype": "text/x-python",
   "name": "python",
   "nbconvert_exporter": "python",
   "pygments_lexer": "ipython3",
   "version": "3.10.8"
  }
 },
 "nbformat": 4,
 "nbformat_minor": 5
}
